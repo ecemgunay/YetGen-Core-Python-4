{
 "cells": [
  {
   "cell_type": "code",
   "execution_count": 2,
   "id": "6ea350fd",
   "metadata": {},
   "outputs": [],
   "source": [
    "#Slicing ile elemanlara erişmek\n",
    "import numpy as np\n",
    "a = np.arange(20,30)"
   ]
  },
  {
   "cell_type": "code",
   "execution_count": 3,
   "id": "a32ae4c7",
   "metadata": {},
   "outputs": [
    {
     "name": "stdout",
     "output_type": "stream",
     "text": [
      "[20 21 22 23 24 25 26 27 28 29]\n"
     ]
    }
   ],
   "source": [
    "print(a)"
   ]
  },
  {
   "cell_type": "code",
   "execution_count": 4,
   "id": "0e8eebcd",
   "metadata": {},
   "outputs": [
    {
     "name": "stdout",
     "output_type": "stream",
     "text": [
      "[20 21 22]\n"
     ]
    }
   ],
   "source": [
    "print(a[0:3])"
   ]
  },
  {
   "cell_type": "code",
   "execution_count": 5,
   "id": "b2c1fea5",
   "metadata": {},
   "outputs": [
    {
     "name": "stdout",
     "output_type": "stream",
     "text": [
      "[20 21 22]\n"
     ]
    }
   ],
   "source": [
    "print(a[:3])"
   ]
  },
  {
   "cell_type": "code",
   "execution_count": 6,
   "id": "f3c00009",
   "metadata": {},
   "outputs": [
    {
     "name": "stdout",
     "output_type": "stream",
     "text": [
      "[23 24 25 26 27 28 29]\n"
     ]
    }
   ],
   "source": [
    "print(a[3:])"
   ]
  },
  {
   "cell_type": "code",
   "execution_count": 7,
   "id": "487a442f",
   "metadata": {},
   "outputs": [
    {
     "name": "stdout",
     "output_type": "stream",
     "text": [
      "[21 23 25 27 29]\n"
     ]
    }
   ],
   "source": [
    "print(a[1::2])"
   ]
  },
  {
   "cell_type": "code",
   "execution_count": 8,
   "id": "047eddf1",
   "metadata": {},
   "outputs": [
    {
     "name": "stdout",
     "output_type": "stream",
     "text": [
      "[20 22 24 26 28]\n"
     ]
    }
   ],
   "source": [
    "print(a[0::2])"
   ]
  },
  {
   "cell_type": "code",
   "execution_count": 9,
   "id": "4289ee49",
   "metadata": {},
   "outputs": [
    {
     "name": "stdout",
     "output_type": "stream",
     "text": [
      "[22 24 26 28]\n"
     ]
    }
   ],
   "source": [
    "print(a[2::2])"
   ]
  },
  {
   "cell_type": "code",
   "execution_count": 10,
   "id": "8dbf89aa",
   "metadata": {},
   "outputs": [
    {
     "name": "stdout",
     "output_type": "stream",
     "text": [
      "[21 26]\n"
     ]
    }
   ],
   "source": [
    "print(a[1::5])"
   ]
  },
  {
   "cell_type": "code",
   "execution_count": 11,
   "id": "713f5444",
   "metadata": {},
   "outputs": [],
   "source": [
    "b = np.random.randint(10, size=[5,5])"
   ]
  },
  {
   "cell_type": "code",
   "execution_count": 12,
   "id": "28ea1084",
   "metadata": {},
   "outputs": [
    {
     "name": "stdout",
     "output_type": "stream",
     "text": [
      "[[7 3 9 6 8]\n",
      " [0 9 1 7 2]\n",
      " [8 5 2 5 1]\n",
      " [8 1 9 1 2]\n",
      " [1 7 9 4 1]]\n"
     ]
    }
   ],
   "source": [
    "print(b)"
   ]
  },
  {
   "cell_type": "code",
   "execution_count": 13,
   "id": "e8e601b7",
   "metadata": {},
   "outputs": [
    {
     "name": "stdout",
     "output_type": "stream",
     "text": [
      "[3 9 5 1 7]\n"
     ]
    }
   ],
   "source": [
    "print(b[:,1])"
   ]
  },
  {
   "cell_type": "code",
   "execution_count": 14,
   "id": "f48a64d2",
   "metadata": {},
   "outputs": [
    {
     "name": "stdout",
     "output_type": "stream",
     "text": [
      "[7 0 8 8 1]\n"
     ]
    }
   ],
   "source": [
    "print(b[:,0])"
   ]
  },
  {
   "cell_type": "code",
   "execution_count": 15,
   "id": "19c24591",
   "metadata": {},
   "outputs": [
    {
     "name": "stdout",
     "output_type": "stream",
     "text": [
      "[7 3 9 6 8]\n"
     ]
    }
   ],
   "source": [
    "print(b[0,:])"
   ]
  },
  {
   "cell_type": "code",
   "execution_count": 16,
   "id": "9f4c157f",
   "metadata": {},
   "outputs": [
    {
     "name": "stdout",
     "output_type": "stream",
     "text": [
      "[0 9 1 7 2]\n"
     ]
    }
   ],
   "source": [
    "print(b[1,:])"
   ]
  },
  {
   "cell_type": "code",
   "execution_count": 17,
   "id": "80c1e6ef",
   "metadata": {},
   "outputs": [
    {
     "name": "stdout",
     "output_type": "stream",
     "text": [
      "[[7 3 9]\n",
      " [0 9 1]]\n"
     ]
    }
   ],
   "source": [
    "print(b[0:2,0:3])"
   ]
  },
  {
   "cell_type": "code",
   "execution_count": 18,
   "id": "af45d48c",
   "metadata": {},
   "outputs": [
    {
     "name": "stdout",
     "output_type": "stream",
     "text": [
      "[[7 9 8]\n",
      " [8 2 1]\n",
      " [1 9 1]]\n"
     ]
    }
   ],
   "source": [
    "print(b[::2, ::2])"
   ]
  },
  {
   "cell_type": "code",
   "execution_count": 19,
   "id": "4676f6c8",
   "metadata": {},
   "outputs": [
    {
     "data": {
      "text/plain": [
       "array([[7, 3],\n",
       "       [0, 9],\n",
       "       [8, 5]], dtype=int32)"
      ]
     },
     "execution_count": 19,
     "metadata": {},
     "output_type": "execute_result"
    }
   ],
   "source": [
    "#Alt küme üzerinde işlem yapmak\n",
    "alt_b = b[0:3, 0:2]\n",
    "alt_b"
   ]
  },
  {
   "cell_type": "code",
   "execution_count": 20,
   "id": "a307f5bc",
   "metadata": {},
   "outputs": [],
   "source": [
    "alt_b[0,0] =100"
   ]
  },
  {
   "cell_type": "code",
   "execution_count": 21,
   "id": "1b497cc9",
   "metadata": {},
   "outputs": [
    {
     "data": {
      "text/plain": [
       "array([[100,   3],\n",
       "       [  0, 200],\n",
       "       [  8,   5]], dtype=int32)"
      ]
     },
     "execution_count": 21,
     "metadata": {},
     "output_type": "execute_result"
    }
   ],
   "source": [
    "alt_b[1,1] = 200\n",
    "alt_b"
   ]
  },
  {
   "cell_type": "code",
   "execution_count": 22,
   "id": "9eb7288c",
   "metadata": {},
   "outputs": [
    {
     "name": "stdout",
     "output_type": "stream",
     "text": [
      "[[100   3   9   6   8]\n",
      " [  0 200   1   7   2]\n",
      " [  8   5   2   5   1]\n",
      " [  8   1   9   1   2]\n",
      " [  1   7   9   4   1]]\n"
     ]
    }
   ],
   "source": [
    "print(b)"
   ]
  },
  {
   "cell_type": "code",
   "execution_count": 23,
   "id": "2a2a1608",
   "metadata": {},
   "outputs": [
    {
     "name": "stdout",
     "output_type": "stream",
     "text": [
      "[ 0  3  6  9 12 15 18 21 24 27]\n"
     ]
    }
   ],
   "source": [
    "#Fancy Index\n",
    "v = np.arange(0,30,3)\n",
    "print(v)"
   ]
  },
  {
   "cell_type": "code",
   "execution_count": 24,
   "id": "cbf00e7a",
   "metadata": {},
   "outputs": [
    {
     "name": "stdout",
     "output_type": "stream",
     "text": [
      "[ 3  9 15]\n"
     ]
    }
   ],
   "source": [
    "yetgen = [1,3,5]\n",
    "print(v[yetgen])"
   ]
  },
  {
   "cell_type": "code",
   "execution_count": 26,
   "id": "7a905886",
   "metadata": {},
   "outputs": [
    {
     "name": "stdout",
     "output_type": "stream",
     "text": [
      "[[0 1 2]\n",
      " [3 4 5]\n",
      " [6 7 8]]\n",
      "[1 5]\n"
     ]
    }
   ],
   "source": [
    "m =np.arange(9).reshape(3,3)\n",
    "print(m)\n",
    "satir = np.array([0,1])\n",
    "sutun = np.array([1,2])\n",
    "print(m[satir, sutun])"
   ]
  }
 ],
 "metadata": {
  "kernelspec": {
   "display_name": "Python 3",
   "language": "python",
   "name": "python3"
  },
  "language_info": {
   "codemirror_mode": {
    "name": "ipython",
    "version": 3
   },
   "file_extension": ".py",
   "mimetype": "text/x-python",
   "name": "python",
   "nbconvert_exporter": "python",
   "pygments_lexer": "ipython3",
   "version": "3.13.2"
  }
 },
 "nbformat": 4,
 "nbformat_minor": 5
}
