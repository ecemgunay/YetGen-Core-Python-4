{
 "cells": [
  {
   "attachments": {},
   "cell_type": "markdown",
   "metadata": {},
   "source": [
    "# Problem 1"
   ]
  },
  {
   "cell_type": "code",
   "execution_count": 7,
   "metadata": {},
   "outputs": [
    {
     "name": "stdout",
     "output_type": "stream",
     "text": [
      "[7 2 1 0 7]\n",
      "(5,)\n",
      "[[7]\n",
      " [2]\n",
      " [1]\n",
      " [0]\n",
      " [7]]\n",
      "1\n"
     ]
    }
   ],
   "source": [
    "# 1 - numpy kütüphanesini import edin\n",
    "import numpy as np  \n",
    "# 2 - 0 ile 10 arasında 5 sayıdan oluşan matris üretin\n",
    "a = np.random.randint(0, 10, size=5)\n",
    "print(a)\n",
    "# 3 - matris'in boyutunu öğrenin\n",
    "print(a.shape)\n",
    "# 4 - matris'i yeniden boyutlandırın\n",
    "print(a.reshape(5,1))\n",
    "# 5 - matris'in boyut sayısını öğrenin\n",
    "print(a.ndim)"
   ]
  },
  {
   "attachments": {},
   "cell_type": "markdown",
   "metadata": {},
   "source": [
    "# Problem 2"
   ]
  },
  {
   "cell_type": "code",
   "execution_count": 13,
   "metadata": {},
   "outputs": [
    {
     "name": "stdout",
     "output_type": "stream",
     "text": [
      "[1 3 5 7 9]\n",
      "[array([1]), array([3]), array([5]), array([7]), array([9])]\n",
      "[1 3 5 7 9]\n"
     ]
    }
   ],
   "source": [
    "# 1 - 0 ile 10 arasında bulunan tek sayılardan oluşan matris üretin\n",
    "odd_numbers = np.arange(1, 10, 2)\n",
    "print(odd_numbers)\n",
    "# 2 - Oluşturduğunuz matrisi parçalayın\n",
    "x = np.split(odd_numbers, 5)\n",
    "print(x)\n",
    "# 3 - Parçalanmış matrisleri birleştirin\n",
    "print(np.concatenate(x))"
   ]
  },
  {
   "cell_type": "code",
   "execution_count": 15,
   "metadata": {},
   "outputs": [
    {
     "name": "stdout",
     "output_type": "stream",
     "text": [
      "[array([1, 3, 5]), array([7, 9])]\n",
      "[1 3 5 7 9]\n"
     ]
    }
   ],
   "source": [
    "#2- için alternatif çözüm\n",
    "y = np.array_split(odd_numbers, 2)\n",
    "print(y)\n",
    "# 3 - Parçalanmış matrisleri birleştirin\n",
    "print(np.concatenate(y))"
   ]
  },
  {
   "attachments": {},
   "cell_type": "markdown",
   "metadata": {},
   "source": [
    "# Problem 3"
   ]
  },
  {
   "cell_type": "code",
   "execution_count": null,
   "metadata": {},
   "outputs": [
    {
     "name": "stdout",
     "output_type": "stream",
     "text": [
      "[ 5  7  9 11 13 15 17 19 21 23 25 27 29 31 33 35 37 39 41 43 45 47 49 51\n",
      " 53 55 57 59 61 63 65 67 69 71 73 75 77 79 81 83 85 87 89 91 93 95 97 99]\n",
      "[49 17 63 59 91 55 75 61 57 97]\n",
      "(10,)\n",
      "1\n",
      "10\n",
      "int64\n"
     ]
    }
   ],
   "source": [
    "# 1 - 5 ile 100 arasında ikişer ikişer atlayarak rastgele 10 sayıdan oluşan matris üretin\n",
    "m = np.arange( 5, 100, 2)\n",
    "print(m)\n",
    "n = np.random.choice(m, size=10, replace=False) #Tekrar etmeden seç\n",
    "print(n)\n",
    "# 2 - matris'in özelliklerini inceleyin\n",
    "print(n.shape) # boyut\n",
    "print(n.ndim) # boyut sayısı\n",
    "print(n.size) # eleman sayısı\n",
    "print(n.dtype) # veri tipi"
   ]
  }
 ],
 "metadata": {
  "kernelspec": {
   "display_name": "Python 3",
   "language": "python",
   "name": "python3"
  },
  "language_info": {
   "codemirror_mode": {
    "name": "ipython",
    "version": 3
   },
   "file_extension": ".py",
   "mimetype": "text/x-python",
   "name": "python",
   "nbconvert_exporter": "python",
   "pygments_lexer": "ipython3",
   "version": "3.13.2"
  },
  "orig_nbformat": 4,
  "vscode": {
   "interpreter": {
    "hash": "5026d2d6e7aaaaba093def813beadff083d8733e4a511af01735cbabd156995d"
   }
  }
 },
 "nbformat": 4,
 "nbformat_minor": 2
}
