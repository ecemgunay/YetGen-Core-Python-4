{
 "cells": [
  {
   "attachments": {},
   "cell_type": "markdown",
   "metadata": {},
   "source": [
    "# Problem 1 "
   ]
  },
  {
   "cell_type": "code",
   "execution_count": 2,
   "metadata": {},
   "outputs": [
    {
     "name": "stdout",
     "output_type": "stream",
     "text": [
      "[  3  10  15  50 200]\n"
     ]
    }
   ],
   "source": [
    "# 1 - numpy kütüphanesini import edin\n",
    "import numpy as np\n",
    "# 2 - 5 elemanlı bir numpy array oluşturun\n",
    "x = np.array([15, 200, 3, 10, 50])\n",
    "# 3 - Oluşturduğunuz arrayi küçükten büyüğe sıralayın.\n",
    "x.sort()\n",
    "print(x)"
   ]
  },
  {
   "attachments": {},
   "cell_type": "markdown",
   "metadata": {},
   "source": [
    "# Problem 2"
   ]
  },
  {
   "cell_type": "code",
   "execution_count": 9,
   "metadata": {},
   "outputs": [
    {
     "name": "stdout",
     "output_type": "stream",
     "text": [
      "[10 15 30 45 60]\n",
      "[ 5  6  7  8  9 10 11 12 13 14]\n",
      "[ 50  55  60  65  70  75  80  85  90  95 100]\n",
      "[0. 0. 0. 0. 0. 0. 0. 0. 0. 0.]\n",
      "[1. 1. 1. 1. 1. 1. 1. 1. 1. 1.]\n",
      "[  0.  25.  50.  75. 100.]\n",
      "[14 14 11 21 21]\n",
      "[-1  0  1  1 -1  1  0  1  0 -1]\n",
      "Matris:\n",
      " [[45 37 39 29 41]\n",
      " [13 40 32 35 33]\n",
      " [29 38 48 43 29]]\n",
      "Satır toplamları: [191 153 187]\n",
      "Sütun toplamları: [ 87 115 119 107 103]\n",
      "En büyük değer: 48\n",
      "En küçük değer: 13\n",
      "Ortalama değer: 35.4\n",
      "En büyük değerin indeksi: 12\n",
      "k dizisinin ilk üç elemanı:  [10 11 12]\n",
      "[20 19 18 17 16 15 14 13 12 11 10]\n",
      "[45 37 39 29 41]\n",
      "32\n",
      "[45 13 29]\n",
      "Kare matris:\n",
      " [[2025 1369 1521  841 1681]\n",
      " [ 169 1600 1024 1225 1089]\n",
      " [ 841 1444 2304 1849  841]]\n",
      "Yeni Matris:\n",
      " [[ -9 -48  11  49 -31]\n",
      " [-26 -29 -10  36   3]\n",
      " [ 28 -41 -17  -4  45]]\n",
      "Pozitif çift sayılar: [36 28]\n"
     ]
    }
   ],
   "source": [
    "# 1- (10,15,30,45,60) değerlerine sahip numpy dizisi oluşturunuz.\n",
    "a = np.array([10, 15, 30, 45, 60])\n",
    "print(a)\n",
    "# 2- (5-15) arasındaki sayılarla numpy dizisi oluşturunuz.\n",
    "b = np.arange(5, 15)\n",
    "print(b)\n",
    "# 3- (50-100) arasında 5'er 5'er artarak numpy dizisi oluşturunuz.\n",
    "c = np.arange(50, 101, 5)\n",
    "print(c)\n",
    "# 4- 10 elemanlı sıfırlardan oluşan bir dizi oluşturunuz.\n",
    "d = np.zeros(10)\n",
    "print(d)\n",
    "\n",
    "# 5- 10 elemanlı birlerden oluşan bir dizi oluşturunuz.\n",
    "e = np.ones(10)\n",
    "print(e)\n",
    "\n",
    "# 6- (0-100) arasında eşit aralıklı 5 sayı üretin.\n",
    "f = np.linspace(0, 100, 5)\n",
    "print(f)\n",
    "# 7- (10-30) arasında rastgele 5 tane tamsayı üretin.\n",
    "g = np.random.randint(10, 30, 5)\n",
    "print(g)\n",
    "# 8- [-1 ile 1] arasında 10 adet sayı üretin.\n",
    "h = np.random.randint(-1, 2, 10)\n",
    "print(h)\n",
    "\n",
    "# 9- (3x5) boyutlarında (10-50) arasında rastgele bir matris oluşturunuz.\n",
    "matris = np.random.randint(10, 50, size=(3,5))\n",
    "print(\"Matris:\\n\", matris)\n",
    "# 10- Üretilen matrisin satır ve sütun sayıları toplamlarını hesaplayınız ?\n",
    "satir_toplam = matris.sum(axis=1)\n",
    "sutun_toplam = matris.sum(axis=0)\n",
    "print(\"Satır toplamları:\", satir_toplam)\n",
    "print(\"Sütun toplamları:\", sutun_toplam)\n",
    "\n",
    "# 11- Üretilen matrisin en büyük, en küçük ve ortalaması nedir ?\n",
    "en_buyuk = matris.max()\n",
    "en_kucuk = matris.min()\n",
    "ortalama = matris.mean()\n",
    "print(\"En büyük değer:\", en_buyuk)\n",
    "print(\"En küçük değer:\", en_kucuk)\n",
    "print(\"Ortalama değer:\", ortalama)\n",
    "\n",
    "# 12- Üretilen matrisin en büyük değerinin indeksi kaçtır ?\n",
    "indeks = np.argmax(matris) #Numpy içindeki en büyük değerin indeksini bulur. Bunu yaparken matrisi tek boyutlu (flat) gibi değerlendirir.\n",
    "print(\"En büyük değerin indeksi:\", indeks)\n",
    "\n",
    "# 13- (10-20) arasındaki sayıları içeren dizinin ilk 3 elemanını seçiniz.\n",
    "k = np.arange(10, 21)\n",
    "print(\"k dizisinin ilk üç elemanı: \" , k[:3]  )\n",
    "\n",
    "# 14- Üretilen dizinin elemanlarını tersten yazdırın.\n",
    "l = k[::-1]\n",
    "print(l)\n",
    "\n",
    "# 15- Üretilen matrisin ilk satırını seçiniz.\n",
    "print(matris[0])\n",
    "\n",
    "# 16- Üretilen matrisin 2.satır 3.sütundaki elemanı hangisidir ?\n",
    "print(matris[1, 2])\n",
    "\n",
    "# 17- Üretilen matrisin tüm satırlardaki ilk elemanı seçiniz.\n",
    "print(matris[:,0])\n",
    "\n",
    "# 18- Üretilen matrisin her bir elemanının karesini alınız.\n",
    "kare_matris = np.square(matris)\n",
    "print(\"Kare matris:\\n\", kare_matris)\n",
    "# 19- Üretilen matris elemanlarının hangisi pozitif çift sayıdır ? Aralığı (-50,+50) arasında yapınız.\n",
    "yeni_matris = np.random.randint(-50, 51, size=(3, 5))\n",
    "print(\"Yeni Matris:\\n\", yeni_matris)\n",
    "pozitif_cift = yeni_matris[(yeni_matris > 0) & (yeni_matris % 2 == 0)]\n",
    "print(\"Pozitif çift sayılar:\", pozitif_cift)"
   ]
  }
 ],
 "metadata": {
  "kernelspec": {
   "display_name": "Python 3",
   "language": "python",
   "name": "python3"
  },
  "language_info": {
   "codemirror_mode": {
    "name": "ipython",
    "version": 3
   },
   "file_extension": ".py",
   "mimetype": "text/x-python",
   "name": "python",
   "nbconvert_exporter": "python",
   "pygments_lexer": "ipython3",
   "version": "3.13.2"
  },
  "orig_nbformat": 4,
  "vscode": {
   "interpreter": {
    "hash": "5026d2d6e7aaaaba093def813beadff083d8733e4a511af01735cbabd156995d"
   }
  }
 },
 "nbformat": 4,
 "nbformat_minor": 2
}
