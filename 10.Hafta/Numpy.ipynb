{
 "cells": [
  {
   "cell_type": "code",
   "execution_count": 1,
   "id": "b7731465",
   "metadata": {},
   "outputs": [
    {
     "name": "stdout",
     "output_type": "stream",
     "text": [
      "[2, 6, 12, 20]\n"
     ]
    }
   ],
   "source": [
    "#Klasik Yöntem\n",
    "a = [1, 2, 3, 4]\n",
    "b = [2, 3, 4, 5]\n",
    "ab = []\n",
    "for i in range(0, len(a)):\n",
    "    ab.append(a[i] * b[i])\n",
    "print(ab)"
   ]
  },
  {
   "cell_type": "code",
   "execution_count": 2,
   "id": "acdb3ca2",
   "metadata": {},
   "outputs": [
    {
     "name": "stdout",
     "output_type": "stream",
     "text": [
      "[ 2  6 12 20]\n"
     ]
    }
   ],
   "source": [
    "#Numpy ile\n",
    "import numpy as np\n",
    "a = np.array([1, 2, 3, 4])\n",
    "b = np.array([2, 3, 4, 5])\n",
    "print(a * b)\n"
   ]
  },
  {
   "cell_type": "code",
   "execution_count": 3,
   "id": "8fc11825",
   "metadata": {},
   "outputs": [
    {
     "name": "stdout",
     "output_type": "stream",
     "text": [
      "[[1 2 3]\n",
      " [4 5 6]\n",
      " [7 8 9]]\n"
     ]
    }
   ],
   "source": [
    "#.reshape() fonksiyonu ile arraylerin boyutunu değiştirebiliriz.\n",
    "x = np.array([1, 2, 3, 4, 5, 6, 7, 8, 9])\n",
    "multi = x.reshape(3,3)\n",
    "print(multi)\n"
   ]
  },
  {
   "cell_type": "code",
   "execution_count": 4,
   "id": "4b2f5340",
   "metadata": {},
   "outputs": [
    {
     "name": "stdout",
     "output_type": "stream",
     "text": [
      "(3, 3)\n",
      "(9,)\n"
     ]
    }
   ],
   "source": [
    "#.shape ile arrayin boyutunu öğrenebiliriz.\n",
    "print(multi.shape)\n",
    "print(x.shape)"
   ]
  },
  {
   "cell_type": "code",
   "execution_count": 5,
   "id": "57fd11a1",
   "metadata": {},
   "outputs": [
    {
     "name": "stdout",
     "output_type": "stream",
     "text": [
      "2\n",
      "1\n"
     ]
    }
   ],
   "source": [
    "#.ndim ile arrayin kaç boyutlu olduğunu öğrenebiliriz.\n",
    "print(multi.ndim)\n",
    "print(x.ndim)"
   ]
  }
 ],
 "metadata": {
  "kernelspec": {
   "display_name": "Python 3",
   "language": "python",
   "name": "python3"
  },
  "language_info": {
   "codemirror_mode": {
    "name": "ipython",
    "version": 3
   },
   "file_extension": ".py",
   "mimetype": "text/x-python",
   "name": "python",
   "nbconvert_exporter": "python",
   "pygments_lexer": "ipython3",
   "version": "3.13.2"
  }
 },
 "nbformat": 4,
 "nbformat_minor": 5
}
