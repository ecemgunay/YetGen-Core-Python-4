{
 "cells": [
  {
   "cell_type": "markdown",
   "metadata": {
    "id": "uiCS34ejv4VG"
   },
   "source": [
    "# Problem 1\n",
    "Vehicle sınıfından miras alan bir Bus sınıfı oluşturun. Bus.seating_capacity()'nin kapasite bağımsız değişkenine varsayılan olarak 50 değerini verin.\n",
    "\n",
    "```\n",
    "Output:\n",
    "> The seating capacity of a bus is 50 passengers\n",
    "```\n"
   ]
  },
  {
   "cell_type": "code",
   "execution_count": null,
   "metadata": {
    "id": "keGKzILev4VE"
   },
   "outputs": [
    {
     "name": "stdout",
     "output_type": "stream",
     "text": [
      "The seating capacity of a bus is 50 passengers\n"
     ]
    }
   ],
   "source": [
    "# 1.Problemin Çözümünü Buraya Yazınız\n",
    "class Vehicle:\n",
    "    def seating_capacity(self, capaticy = 50): #seating_capacity nesneye ait özellikleri kullanıcıya göstermek için kullanılır.\n",
    "        return f\"The seating capacity of a bus is {capaticy} passengers\"\n",
    "\n",
    "class Bus(Vehicle):\n",
    "    pass\n",
    "\n",
    "bus = Bus()\n",
    "print(bus.seating_capacity())"
   ]
  },
  {
   "cell_type": "markdown",
   "metadata": {
    "id": "TzTHWO2zv4VB"
   },
   "source": [
    "# Problem 2\n",
    "\n",
    "\n",
    "School_bus'ın aynı zamanda Vehicle sınıfının bir örneği olup olmadığını belirleyiniz."
   ]
  },
  {
   "cell_type": "code",
   "execution_count": null,
   "metadata": {
    "id": "bTc9IfRfv4VG"
   },
   "outputs": [
    {
     "name": "stdout",
     "output_type": "stream",
     "text": [
      "True\n"
     ]
    }
   ],
   "source": [
    "# 2.Problemin Çözümünü Buraya Yazınız\n",
    "class School_bus(Vehicle):\n",
    "    pass #bustaki özellikleri alıyoruz fakat ek bir özellik eklemiyoruz. O yüzden pass kullandık.\n",
    "\n",
    "school_bus = School_bus()\n",
    "print(isinstance(bus, Vehicle)) #True #isinistance() fonksiyonu, bir nesnenin belirtilen nesnenin belirtilen sınıftan türetilip türetilmediğini kontrol eder."
   ]
  }
 ],
 "metadata": {
  "colab": {
   "provenance": []
  },
  "kernelspec": {
   "display_name": "Python 3",
   "language": "python",
   "name": "python3"
  },
  "language_info": {
   "codemirror_mode": {
    "name": "ipython",
    "version": 3
   },
   "file_extension": ".py",
   "mimetype": "text/x-python",
   "name": "python",
   "nbconvert_exporter": "python",
   "pygments_lexer": "ipython3",
   "version": "3.13.2"
  },
  "orig_nbformat": 4,
  "vscode": {
   "interpreter": {
    "hash": "5026d2d6e7aaaaba093def813beadff083d8733e4a511af01735cbabd156995d"
   }
  }
 },
 "nbformat": 4,
 "nbformat_minor": 0
}
