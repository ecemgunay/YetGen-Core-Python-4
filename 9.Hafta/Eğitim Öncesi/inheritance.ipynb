{
 "cells": [
  {
   "cell_type": "code",
   "execution_count": 6,
   "id": "593f402d",
   "metadata": {},
   "outputs": [],
   "source": [
    "class Person:\n",
    "    def __init__(self, name, surname, age):\n",
    "        self.name = name\n",
    "        self.surname = surname\n",
    "        self.age = age\n",
    "        print(\"Person nesnesi türetildi.\")\n",
    "    def intro(self):\n",
    "        print(self.name, self.surname, self.age)\n",
    "\n",
    "class Student(Person):\n",
    "    def __init__(self, name, surname, age, number):\n",
    "        super().__init__(name, surname, age)\n",
    "        self.number = number\n",
    "        print(\"Student nesnesi çalıştı\")\n",
    "    def intro(self):\n",
    "        print(self.name, self.surname, self.age, self.number)\n",
    "    \n",
    "    def study(self):\n",
    "        print(f\"{self.number} numaralı öğrenci ders çalışıyor.\")\n",
    "\n",
    "class Teacher(Person):\n",
    "    def __init__(self, name, surname, age, branch):\n",
    "        super(). __init__(name, surname, age)\n",
    "        self.branch = branch\n",
    "        print(\"Teacher nesnesi çalıştı\")\n",
    "    \n",
    "    def teach(self):\n",
    "        print(f\"{self.name} isimli öğretmen {self.branch} dersine girmektedir\")\n",
    "\n"
   ]
  },
  {
   "cell_type": "code",
   "execution_count": 2,
   "id": "a1fb215b",
   "metadata": {},
   "outputs": [
    {
     "name": "stdout",
     "output_type": "stream",
     "text": [
      "Person nesnesi türetildi.\n",
      "Ecem Günay 23\n"
     ]
    }
   ],
   "source": [
    "p1 = Person(\"Ecem\", \"Günay\", 23)\n",
    "p1.intro()\n"
   ]
  },
  {
   "cell_type": "code",
   "execution_count": 7,
   "id": "5074091e",
   "metadata": {},
   "outputs": [
    {
     "name": "stdout",
     "output_type": "stream",
     "text": [
      "Person nesnesi türetildi.\n",
      "Student nesnesi çalıştı\n",
      "YetGen Jump 20 1001\n",
      "1001 numaralı öğrenci ders çalışıyor.\n"
     ]
    }
   ],
   "source": [
    "s1 = Student(\"YetGen\", \"Jump\", 20, 1001)\n",
    "s1.intro()\n",
    "s1.study()"
   ]
  },
  {
   "cell_type": "code",
   "execution_count": 8,
   "id": "bc17838b",
   "metadata": {},
   "outputs": [
    {
     "name": "stdout",
     "output_type": "stream",
     "text": [
      "Person nesnesi türetildi.\n",
      "Teacher nesnesi çalıştı\n",
      "Fatma Fatma 24\n",
      "Fatma isimli öğretmen Matematik dersine girmektedir\n"
     ]
    }
   ],
   "source": [
    "t1 = Teacher(\"Fatma\", \"Fatma\", 24, \"Matematik\")\n",
    "t1.intro()\n",
    "t1.teach()"
   ]
  }
 ],
 "metadata": {
  "kernelspec": {
   "display_name": "Python 3",
   "language": "python",
   "name": "python3"
  },
  "language_info": {
   "codemirror_mode": {
    "name": "ipython",
    "version": 3
   },
   "file_extension": ".py",
   "mimetype": "text/x-python",
   "name": "python",
   "nbconvert_exporter": "python",
   "pygments_lexer": "ipython3",
   "version": "3.13.2"
  }
 },
 "nbformat": 4,
 "nbformat_minor": 5
}
