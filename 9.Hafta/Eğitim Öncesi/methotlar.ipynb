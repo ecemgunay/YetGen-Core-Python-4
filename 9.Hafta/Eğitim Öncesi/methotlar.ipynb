{
 "cells": [
  {
   "cell_type": "code",
   "execution_count": 1,
   "id": "39769b23",
   "metadata": {},
   "outputs": [],
   "source": [
    "class Developer():\n",
    "    def __init__(self, isim, soyisim, numara, maas, diller):\n",
    "        self.isim = isim\n",
    "        self.soyisim = soyisim\n",
    "        self.numara = numara\n",
    "        self.maas = maas\n",
    "        self.diller = diller\n",
    "\n",
    "    def bilgileri_goster(self):\n",
    "        print(f\"\"\"\n",
    "        Çalışan bilgisi:\n",
    "           İsim:{self.isim}\n",
    "           Soyisim:{self.soyisim}\n",
    "           Numara:{self.numara}\n",
    "           Maaş:{self.maas}\n",
    "           Bildiği diller:{self.diller}\n",
    "        \"\"\")\n",
    "    \n",
    "    def dil_ekle(self, yeni_dil):\n",
    "        print(\"Dil eklendi\")\n",
    "        self.diller.append(yeni_dil)\n",
    "    \n",
    "    def maas_yukselt(self, zam):\n",
    "        print(\"Zam yapılıyor\")\n",
    "        self.maas += 250"
   ]
  },
  {
   "cell_type": "code",
   "execution_count": 3,
   "id": "0a9dd8c0",
   "metadata": {},
   "outputs": [],
   "source": [
    "yazilimci = Developer(\"Ecem\", \"Günay\", 12345, 10000, [\"Python\", \"Flutter\", \"JS\"])"
   ]
  },
  {
   "cell_type": "code",
   "execution_count": 4,
   "id": "7efd565c",
   "metadata": {},
   "outputs": [
    {
     "name": "stdout",
     "output_type": "stream",
     "text": [
      "\n",
      "        Çalışan bilgisi:\n",
      "           İsim:Ecem\n",
      "           Soyisim:Günay\n",
      "           Numara:12345\n",
      "           Maaş:10000\n",
      "           Bildiği diller:['Python', 'Flutter', 'JS']\n",
      "        \n"
     ]
    }
   ],
   "source": [
    "yazilimci.bilgileri_goster()"
   ]
  },
  {
   "cell_type": "code",
   "execution_count": 5,
   "id": "a4450881",
   "metadata": {},
   "outputs": [
    {
     "name": "stdout",
     "output_type": "stream",
     "text": [
      "Zam yapılıyor\n"
     ]
    }
   ],
   "source": [
    "yazilimci.maas_yukselt(250)"
   ]
  },
  {
   "cell_type": "code",
   "execution_count": 6,
   "id": "077ee1f9",
   "metadata": {},
   "outputs": [
    {
     "name": "stdout",
     "output_type": "stream",
     "text": [
      "\n",
      "        Çalışan bilgisi:\n",
      "           İsim:Ecem\n",
      "           Soyisim:Günay\n",
      "           Numara:12345\n",
      "           Maaş:10250\n",
      "           Bildiği diller:['Python', 'Flutter', 'JS']\n",
      "        \n"
     ]
    }
   ],
   "source": [
    "yazilimci.bilgileri_goster()"
   ]
  }
 ],
 "metadata": {
  "kernelspec": {
   "display_name": "Python 3",
   "language": "python",
   "name": "python3"
  },
  "language_info": {
   "codemirror_mode": {
    "name": "ipython",
    "version": 3
   },
   "file_extension": ".py",
   "mimetype": "text/x-python",
   "name": "python",
   "nbconvert_exporter": "python",
   "pygments_lexer": "ipython3",
   "version": "3.13.2"
  }
 },
 "nbformat": 4,
 "nbformat_minor": 5
}
