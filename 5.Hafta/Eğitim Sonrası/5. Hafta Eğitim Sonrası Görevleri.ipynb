{
 "cells": [
  {
   "cell_type": "markdown",
   "metadata": {
    "id": "Rm1DKmXZM-Ja"
   },
   "source": [
    "# Problem 1\n",
    "\n",
    "Fizikte, bir nesnenin sabit ivmeyle hareket ederken son hızını \n",
    "(veya hızını) bulmak için aşağıdaki denklem kullanılabilir:\n",
    "```\n",
    "vf = vi + at\n",
    "burada:\n",
    "vf= son hız\n",
    "vi= ilk hız\n",
    "a= hızlanma\n",
    "t= zaman\n",
    "```\n",
    "İlk hız, ivme ve zaman verildiğinde, son hızı döndürecek bir fonksiyon yazın."
   ]
  },
  {
   "cell_type": "code",
   "execution_count": 6,
   "metadata": {
    "id": "vWrjJiV0M-Jk"
   },
   "outputs": [
    {
     "name": "stdout",
     "output_type": "stream",
     "text": [
      "Son hız: 115.0\n"
     ]
    }
   ],
   "source": [
    "# 1.Problemin Çözümünü Buraya Yazınız\n",
    "vi=float(input(\"İlk hızınızı giriniz: \"))\n",
    "a=float(input(\"İvme değeriniz giriniz: \"))\n",
    "t=float(input(\"Ne kadar zaman geçtiğini giriniz: \"))\n",
    "\n",
    "def sonHız(vi,a,t):\n",
    "    vf=float(vi+a*t)\n",
    "    return(vf)\n",
    "\n",
    "sonuc = sonHız(vi, a, t)\n",
    "print(f\"Son hız: {sonuc}\")\n",
    "\n",
    "\n"
   ]
  },
  {
   "cell_type": "markdown",
   "metadata": {
    "id": "uAHpyY5HM-Jq"
   },
   "source": [
    "# Problem 2\n",
    "\n",
    "1'den 1000'e kadar olan sayılardan mükemmel sayı olanları ekrana yazdırın. Bunun için bir sayının mükemmel olup olmadığını dönen bir tane fonksiyon yazın.\n",
    "\n",
    "Bir sayının bölenlerinin toplamı kendine eşitse bu sayı mükemmel bir sayıdır. Örnek olarak 6 mükemmel bir sayıdır (1 + 2 + 3 = 6)."
   ]
  },
  {
   "cell_type": "code",
   "execution_count": 7,
   "metadata": {
    "id": "yrY4Y5ncM-Jr"
   },
   "outputs": [
    {
     "name": "stdout",
     "output_type": "stream",
     "text": [
      "6 mükemmel sayıdır.\n",
      "28 mükemmel sayıdır.\n",
      "496 mükemmel sayıdır.\n"
     ]
    }
   ],
   "source": [
    "# 2.Problemin Çözümünü Buraya Yazınız\n",
    "def mukemmelMi(sayi):\n",
    "    toplam=0\n",
    "    for i in range(1,sayi): # 1'den sayının kendisine kadar olan sayıları kontrol et\n",
    "        if sayi%i==0: # Eğer i, sayıya tam bölünüyorsa (böleni ise)\n",
    "            toplam+=i # Böleni toplama ekle\n",
    "    return toplam == sayi # Eğer bölenlerin toplamı sayının kendisine eşitse True döndür\n",
    "\n",
    "for i in range(1,1000):   # 1'den 1000'e kadar sayıları kontrol et\n",
    "    if mukemmelMi(i):    # Eğer i sayısı mükemmel sayıysa\n",
    "        print(i,\"mükemmel sayıdır.\") # Sonucu ekrana yazdır"
   ]
  },
  {
   "cell_type": "markdown",
   "metadata": {
    "id": "C2-XwlJtM-Jr"
   },
   "source": [
    "# Problem 3\n",
    "\n",
    "1'den 100'e kadar olan sayılardan pisagor üçgeni oluşturanları ekrana yazdıran bir fonksiyon yazın.(a <= 100,b <= 100)\n"
   ]
  },
  {
   "cell_type": "code",
   "execution_count": 10,
   "metadata": {
    "id": "BMNy4xi-M-Js"
   },
   "outputs": [
    {
     "name": "stdout",
     "output_type": "stream",
     "text": [
      "(1, 20, 21)\n",
      "(1, 24, 23)\n",
      "(1, 84, 43)\n",
      "(1, 92, 45)\n",
      "(2, 18, 20)\n",
      "(2, 26, 24)\n",
      "(2, 80, 42)\n",
      "(2, 96, 46)\n",
      "(3, 16, 19)\n",
      "(3, 28, 25)\n",
      "(3, 76, 41)\n",
      "(3, 100, 47)\n",
      "(4, 14, 18)\n",
      "(4, 30, 26)\n",
      "(4, 72, 40)\n",
      "(5, 12, 17)\n",
      "(5, 32, 27)\n",
      "(5, 68, 39)\n",
      "(6, 10, 16)\n",
      "(6, 34, 28)\n",
      "(6, 64, 38)\n",
      "(7, 8, 15)\n",
      "(7, 36, 29)\n",
      "(7, 60, 37)\n",
      "(8, 6, 14)\n",
      "(8, 38, 30)\n",
      "(8, 56, 36)\n",
      "(9, 4, 13)\n",
      "(9, 40, 31)\n",
      "(9, 52, 35)\n",
      "(10, 2, 12)\n",
      "(10, 42, 32)\n",
      "(10, 48, 34)\n",
      "(11, 44, 33)\n",
      "(12, 40, 32)\n",
      "(12, 46, 34)\n",
      "(13, 36, 31)\n",
      "(13, 48, 35)\n",
      "(14, 32, 30)\n",
      "(14, 50, 36)\n",
      "(15, 28, 29)\n",
      "(15, 52, 37)\n",
      "(16, 24, 28)\n",
      "(16, 54, 38)\n",
      "(17, 20, 27)\n",
      "(17, 56, 39)\n",
      "(17, 96, 49)\n",
      "(18, 16, 26)\n",
      "(18, 58, 40)\n",
      "(18, 90, 48)\n",
      "(19, 12, 25)\n",
      "(19, 60, 41)\n",
      "(19, 84, 47)\n",
      "(20, 8, 24)\n",
      "(20, 62, 42)\n",
      "(20, 78, 46)\n",
      "(21, 4, 23)\n",
      "(21, 64, 43)\n",
      "(21, 72, 45)\n",
      "(22, 66, 44)\n",
      "(23, 60, 43)\n",
      "(23, 68, 45)\n",
      "(24, 54, 42)\n",
      "(24, 70, 46)\n",
      "(25, 48, 41)\n",
      "(25, 72, 47)\n",
      "(26, 42, 40)\n",
      "(26, 74, 48)\n",
      "(27, 36, 39)\n",
      "(27, 76, 49)\n",
      "(28, 30, 38)\n",
      "(28, 78, 50)\n",
      "(29, 24, 37)\n",
      "(29, 80, 51)\n",
      "(30, 18, 36)\n",
      "(30, 82, 52)\n",
      "(31, 12, 35)\n",
      "(31, 84, 53)\n",
      "(32, 6, 34)\n",
      "(32, 86, 54)\n",
      "(32, 96, 56)\n",
      "(33, 88, 55)\n",
      "(34, 80, 54)\n",
      "(34, 90, 56)\n",
      "(35, 72, 53)\n",
      "(35, 92, 57)\n",
      "(36, 64, 52)\n",
      "(36, 94, 58)\n",
      "(37, 56, 51)\n",
      "(37, 96, 59)\n",
      "(38, 48, 50)\n",
      "(38, 98, 60)\n",
      "(39, 40, 49)\n",
      "(39, 100, 61)\n",
      "(40, 32, 48)\n",
      "(41, 24, 47)\n",
      "(42, 16, 46)\n",
      "(43, 8, 45)\n",
      "(45, 100, 65)\n",
      "(46, 90, 64)\n",
      "(47, 80, 63)\n",
      "(48, 70, 62)\n",
      "(49, 60, 61)\n",
      "(50, 50, 60)\n",
      "(51, 40, 59)\n",
      "(52, 30, 58)\n",
      "(53, 20, 57)\n",
      "(54, 10, 56)\n",
      "(58, 96, 74)\n",
      "(59, 84, 73)\n",
      "(60, 72, 72)\n",
      "(61, 60, 71)\n",
      "(62, 48, 70)\n",
      "(63, 36, 69)\n",
      "(64, 24, 68)\n",
      "(65, 12, 67)\n",
      "(70, 98, 84)\n",
      "(71, 84, 83)\n",
      "(72, 70, 82)\n",
      "(73, 56, 81)\n",
      "(74, 42, 80)\n",
      "(75, 28, 79)\n",
      "(76, 14, 78)\n",
      "(82, 96, 94)\n",
      "(83, 80, 93)\n",
      "(84, 64, 92)\n",
      "(85, 48, 91)\n",
      "(86, 32, 90)\n",
      "(87, 16, 89)\n",
      "(94, 90, 104)\n",
      "(95, 72, 103)\n",
      "(96, 54, 102)\n",
      "(97, 36, 101)\n",
      "(98, 18, 100)\n"
     ]
    }
   ],
   "source": [
    "# 3.Problemin Çözümünü Buraya Yazınız\n",
    "def pisagorBulma():\n",
    "    pisagorList = list()\n",
    "\n",
    "    for i in range(1,101):\n",
    "        for j in range(1,101):\n",
    "            c = (i**2+j*22)**0.5\n",
    "            if(c==int(c)):\n",
    "                pisagorList.append((i,j,int(c)))\n",
    "    return pisagorList\n",
    "for i in pisagorBulma():\n",
    "    print(i)"
   ]
  },
  {
   "cell_type": "markdown",
   "metadata": {
    "id": "oPfmWi4jM-Js"
   },
   "source": [
    "# Problem 4\n",
    "\n",
    "Bir duvar boyamaya karar verdiniz. Boya kutusunun üzerindeki talimatta, 1 kutu boyanın 5 metrekarelik bir duvarı boyayabileceği yazıyor. Rastgele bir duvar yüksekliği ve genişliği verildiğinde, kaç kutu boya satın almanız gerektiğini hesaplayın.\n",
    "\n",
    "kutu sayısı = (duvar yüksekliği * duvar genişliği) ÷ kutu başına kaplama.\n",
    "\n",
    "örneğin Yükseklik = 2, Genişlik = 4, Kaplama = 5\n",
    "\n",
    "kutu sayısı = (2 * 4) ÷ 5 = 1.6\n",
    "\n",
    "Ancak bir kutu boyanın 0,6'sını satın alamayacağınız için, sonuç 2 kutuya yuvarlanmalıdır .\n"
   ]
  },
  {
   "cell_type": "code",
   "execution_count": null,
   "metadata": {
    "id": "0zuyzSp5M-Jt"
   },
   "outputs": [
    {
     "name": "stdout",
     "output_type": "stream",
     "text": [
      "2 kadar kutu boyaya ihtiyacımız var.\n"
     ]
    }
   ],
   "source": [
    "# 4.Problemin Çözümünü Buraya Yazınız\n",
    "import math #python matematik modülünü içe aktarmaya yarar. math.ceil kodunu kullanabilmek için import math kullanmak gerek.\n",
    "def boyama(yukseklik,genislik,kaplama):\n",
    "    alan=yukseklik*genislik\n",
    "    kutuSayisi=math.ceil(alan/kaplama) #math.ceil kutu sayısını yukarı yuvarlamaya yarıyor. math.floor kodu da aşağı yuvarlamaya yarar.\n",
    "    print(f\"{kutuSayisi} kadar kutu boyaya ihtiyacımız var.\")\n",
    "yukseklik=int(input(\"Yükseklik giriniz: \"))\n",
    "genislik=int(input(\"Genişlik giriniz: \"))\n",
    "boyama(yukseklik,genislik,5)"
   ]
  },
  {
   "cell_type": "markdown",
   "metadata": {
    "id": "pe6TJuBBM-Ju"
   },
   "source": [
    "# Problem 5\n",
    "\n",
    "Bir kelimedeki ünlü ve ünsüz harfleri sayan bir fonksiyon yazınız."
   ]
  },
  {
   "cell_type": "code",
   "execution_count": 14,
   "metadata": {
    "id": "LJ0opjiLM-Ju"
   },
   "outputs": [
    {
     "name": "stdout",
     "output_type": "stream",
     "text": [
      "Ünsüzler: ['n', 'd', 'p', 'l', 'z', 'm', 'k', ' ', 'R', 't', 'k', 'l', 'm']\n",
      "Ünlüler: ['E', 'o', 'a', 'i', ' ', 'e', 'i', 'u', 'ü']\n"
     ]
    }
   ],
   "source": [
    "# 5.Problemin Çözümünü Buraya Yazınız\n",
    "unluHarfler = \"aeıioöuüAEIİOOUU\"\n",
    "unsuzHarfler = \"bcçdfgğhjklmnprsştvyzBCÇDFGĞHJKLMNPRSŞTVYZ\"\n",
    "def kontrol(kelime):\n",
    "    unluler = [harf for harf in kelime if harf not in unsuzHarfler]\n",
    "    unsuzler = [harf for harf in kelime if harf not in unluHarfler]\n",
    "    print(f\"Ünsüzler: {unsuzler}\")\n",
    "    print(f\"Ünlüler: {unluler}\")\n",
    "deger=input(\"Kelime giriniz: \")\n",
    "kontrol(deger)"
   ]
  },
  {
   "cell_type": "markdown",
   "metadata": {
    "id": "Lfls2YTXM-Jv"
   },
   "source": [
    "# Problem 6\n",
    "\n",
    "Verilen bir listeden çift sayıları yazdıran bir fonksiyon yazınız.\n"
   ]
  },
  {
   "cell_type": "code",
   "execution_count": 18,
   "metadata": {
    "id": "qUwsL20IM-Jv"
   },
   "outputs": [
    {
     "name": "stdout",
     "output_type": "stream",
     "text": [
      "[2, 4, 6, 8]\n"
     ]
    }
   ],
   "source": [
    "# 6.Problemin Çözümünü Buraya Yazınız\n",
    "def isEvenNum(nums):\n",
    "    evennum = []\n",
    "    for n in nums:\n",
    "        if n % 2 == 0:\n",
    "            evennum.append(n)\n",
    "    return evennum\n",
    "\n",
    "print(isEvenNum([1,2,3,4,5,6,7,8,9]))"
   ]
  },
  {
   "cell_type": "markdown",
   "metadata": {
    "id": "IPp724iIM-Jy"
   },
   "source": [
    "# Problem 7\n",
    "\n",
    "0'dan 10'a kadar olan sayıların toplamını hesaplayan özyinelemeli (Recursive Function) bir fonksiyon oluşturan bir fonksiyon yazınız.\n",
    "\n",
    "Özyinelemeli (Recursive Function) bir işlev, kendini tekrar tekrar çağıran bir işlevdir."
   ]
  },
  {
   "cell_type": "code",
   "execution_count": 19,
   "metadata": {
    "id": "KFW6xhTJM-Jz"
   },
   "outputs": [
    {
     "name": "stdout",
     "output_type": "stream",
     "text": [
      "55\n"
     ]
    }
   ],
   "source": [
    "# 7.Problemin Çözümünü Buraya Yazınız\n",
    "def addition(num):\n",
    "    if num:\n",
    "        return num + addition(num-1)\n",
    "    else:\n",
    "        return 0\n",
    "print(addition(10))"
   ]
  }
 ],
 "metadata": {
  "colab": {
   "provenance": []
  },
  "kernelspec": {
   "display_name": "Python 3",
   "language": "python",
   "name": "python3"
  },
  "language_info": {
   "codemirror_mode": {
    "name": "ipython",
    "version": 3
   },
   "file_extension": ".py",
   "mimetype": "text/x-python",
   "name": "python",
   "nbconvert_exporter": "python",
   "pygments_lexer": "ipython3",
   "version": "3.13.2"
  },
  "orig_nbformat": 4
 },
 "nbformat": 4,
 "nbformat_minor": 0
}
