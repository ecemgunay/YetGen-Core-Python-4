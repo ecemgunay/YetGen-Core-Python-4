{
 "cells": [
  {
   "cell_type": "markdown",
   "metadata": {
    "id": "4i4T2_mYtDbK"
   },
   "source": [
    "# Problem 1\n",
    "Elinizde bir dikdörtgenin kenarlarını ifade eden sayı çiftlerinin bulunduğu bir liste olsun.\n",
    "\n",
    "     [(3,4),(10,3),(5,6),(1,9)]\n",
    "\n",
    "Şimdi kenar uzunluklarına göre dikdörtgenin alanını hesaplayan bir fonksiyon yazın ve bu listenin her bir elemanına bu fonksiyonu uygulayarak ekrana şöyle bir liste yazdırın.\n",
    "\n",
    "     [12, 30, 30, 9]\n",
    "\n",
    "İpucu : map() fonksiyonunu kullanmaya çalışın."
   ]
  },
  {
   "cell_type": "code",
   "execution_count": null,
   "metadata": {
    "id": "7sIq-jJwtDbN"
   },
   "outputs": [
    {
     "name": "stdout",
     "output_type": "stream",
     "text": [
      "[12, 30, 30, 9]\n"
     ]
    }
   ],
   "source": [
    "# 1.Problemin Çözümünü Buraya Yazınız\n",
    "def dikdortgenAlani(kenarlar): #Dikdörtgen alanını hesaplayan fonksiyonum\n",
    "    return kenarlar[0] * kenarlar[1] #alanı bulacağım için iki kenarı çarpıcam {x,y} birinci bileşeni 0. indis ve 1. bileşeni de 1. indis olarak aldık\n",
    "\n",
    "dikdortgeninKenarlari = [(3, 4), (10, 3), (5, 6), (1, 9)] #dikdörtgenlerin kenarları\n",
    "\n",
    "alanlar = list(map(dikdortgenAlani, dikdortgeninKenarlari)) #fonksiyonu bir listedeki her elemana uygulamak için map() kullandım.\n",
    "\n",
    "print(alanlar)\n"
   ]
  },
  {
   "cell_type": "markdown",
   "metadata": {
    "id": "mDPVivNxtDbO"
   },
   "source": [
    "# Problem 2\n",
    "\n",
    "Elinizden her bir elemanı 3'lü bir demet olan bir liste olsun.\n",
    "\n",
    " ```[(3,4,5),(6,8,10),(3,10,7)]```\n",
    "\n",
    "Şimdi kenar uzunluklarına göre bu kenarların bir üçgen oluşturup oluşturmadığını döndüren bir fonksiyon yazın ve sadece üçgen oluşturan kenarları bulunduran listeyi ekrana yazdırın.\n",
    "\n",
    " ```[(3, 4, 5), (6, 8, 10)]```\n",
    "\n",
    "İpucu: filter() fonksiyonunu kullanmaya çalışın."
   ]
  },
  {
   "cell_type": "code",
   "execution_count": null,
   "metadata": {
    "id": "nf-hi67xtDbP"
   },
   "outputs": [
    {
     "name": "stdout",
     "output_type": "stream",
     "text": [
      "[(3, 4, 5), (6, 8, 10)]\n"
     ]
    }
   ],
   "source": [
    "# 2.Problemin Çözümünü Buraya Yazınız\n",
    "def ucgenMi(kenarlar):\n",
    "     a, b, c = sorted(kenarlar) #üçgendeki en büyük kenarın küçük kenarların toplamından kücük kalma kuralını kullanabilmek için kenarları sıraladık.\n",
    "     return a + b > c \n",
    "\n",
    "kenarListesi = [(3, 4, 5), (6, 8, 10), (3, 10, 7)] # elimizdeki üçgenlerin kenar boyutları\n",
    "gecerliUcgenler = list(filter(ucgenMi, kenarListesi)) #filter ile üçgen oluşturabilenleri ayırdık.\n",
    "\n",
    "print(gecerliUcgenler)\n"
   ]
  },
  {
   "cell_type": "markdown",
   "metadata": {
    "id": "35ur1Ul_tDbP"
   },
   "source": [
    "# Problem 3\n",
    "Elinizde aşağıdaki gibi bir liste bulunmaktadır.\n",
    "\n",
    "```[1,2,3,4,5,6,7,8,9,10]```\n",
    "\n",
    "Bu listenin içindeki çift sayıların toplamını ekrana yazdıran bir fonksiyon yazın.\n",
    "\n",
    "İpucu: İlk önce filter() fonksiyonu ile çift sayıları ayıklayın. Daha sonra reduce() fonksiyonunu kullanın."
   ]
  },
  {
   "cell_type": "code",
   "execution_count": 10,
   "metadata": {
    "id": "sRPOpzAvtDbP"
   },
   "outputs": [
    {
     "name": "stdout",
     "output_type": "stream",
     "text": [
      "Çift sayıların toplamı: 30\n"
     ]
    }
   ],
   "source": [
    "# 3.Problemin Çözümünü Buraya Yazınız\n",
    "from functools import reduce #reduce fonksiyonu varsayılan olarak kayıtlı olmadığı için functools modülü içinde olduğundan reduce fonksiyonunu içeri aktardım\n",
    "\n",
    "sayilar = [1, 2, 3, 4, 5, 6, 7, 8, 9, 10] #listemi girdim\n",
    "ciftSayilar = list(filter(lambda x: x % 2 == 0, sayilar)) #çift sayıları ayırarak yeni bir liste oluşturduk (bunu filter ile yapıyoruz)\n",
    "#lambda x: x % 2 == 0, sayilar çift sayı mı kontrolü yapıyor \n",
    "\n",
    "toplam = reduce(lambda x, y: x + y, ciftSayilar) # reduce listedeki elemanları tek tek dönüp ekrana sonuç verir. yani ciftSayilar listesindeki sayıları teker teker toplar.\n",
    "\n",
    "print(\"Çift sayıların toplamı:\", toplam)"
   ]
  },
  {
   "cell_type": "markdown",
   "metadata": {
    "id": "b-NzXcXrtDbQ"
   },
   "source": [
    "# Problem 4\n",
    "\n",
    "Elinizde isimlerin ve soyisimlerin bulunduğu iki tane liste bulunmaktadır.\n",
    "\n",
    "    isimler -----> [\"Kerim\",\"Tarık\",\"Ezgi\",\"Kemal\",\"İlkay\",\"Şükran\",\"Merve\"]\n",
    "\n",
    "    soyisimler -----> [\"Yılmaz\",\"Öztürk\",\"Dağdeviren\",\"Atatürk\",\"Dikmen\",\"Kaya\",\"Polat\"]\n",
    "    \n",
    "Bu isimleri ve soyisimleri sırasıyla eşleştirin ve ekrana alt alta isimleri ve soyisimleri yazdırın.\n",
    "\n",
    "İpucu: zip() fonksiyonunu kullanmaya kullanın."
   ]
  },
  {
   "cell_type": "code",
   "execution_count": 11,
   "metadata": {
    "id": "y_psHJSitDbQ"
   },
   "outputs": [
    {
     "name": "stdout",
     "output_type": "stream",
     "text": [
      "Ecem Günay\n",
      "Sezer Kapucu\n",
      "Öykü Zengin\n",
      "Özlem Gırlangıç\n",
      "Ceren Ertuğrul\n",
      "İpek Günay\n"
     ]
    }
   ],
   "source": [
    "# 4.Problemin Çözümünü Buraya Yazınız\n",
    "isimler = [\"Ecem\", \"Sezer\", \"Öykü\", \"Özlem\", \"Ceren\", \"İpek\"]\n",
    "soyisimler = [\"Günay\", \"Kapucu\", \"Zengin\", \"Gırlangıç\", \"Ertuğrul\", \"Günay\"]\n",
    "\n",
    "for isim, soyisim in zip(isimler, soyisimler):\n",
    "    print(isim, soyisim)"
   ]
  },
  {
   "cell_type": "markdown",
   "metadata": {
    "id": "iyKtrQHmtDbQ"
   },
   "source": [
    "# Problem 5\n",
    "\n",
    "İçerisinde yetgen, core, python2, programı, 2022, basic2 elemanları bulunan bir liste oluşturun.\n",
    "\n",
    "Bu listenin içindeki stringlerden içinde sadece rakam bulunanları ekrana yazdırın. Bunu yaparken try, except bloklarını kullanmayı unutmayın."
   ]
  },
  {
   "cell_type": "code",
   "execution_count": null,
   "metadata": {
    "id": "7ckliOAftDbR"
   },
   "outputs": [
    {
     "name": "stdout",
     "output_type": "stream",
     "text": [
      "2022\n"
     ]
    }
   ],
   "source": [
    "myList = [\"yetgen\", \"core\", \"python2\", \"programı\", \"2022\", \"basic2\"] #Liste oluşturduk\n",
    "\n",
    "for item in myList:\n",
    "    try:\n",
    "        if item.isdigit(): #item sadece rakamlardan mı oluşuyor diye kontrol ediyor. kontrolu isdigit\n",
    "            print(item)\n",
    "    except Exception as e:\n",
    "        print(f\"Hata: {e}\")"
   ]
  }
 ],
 "metadata": {
  "colab": {
   "provenance": []
  },
  "kernelspec": {
   "display_name": "Python 3",
   "language": "python",
   "name": "python3"
  },
  "language_info": {
   "codemirror_mode": {
    "name": "ipython",
    "version": 3
   },
   "file_extension": ".py",
   "mimetype": "text/x-python",
   "name": "python",
   "nbconvert_exporter": "python",
   "pygments_lexer": "ipython3",
   "version": "3.13.2"
  },
  "orig_nbformat": 4,
  "vscode": {
   "interpreter": {
    "hash": "5026d2d6e7aaaaba093def813beadff083d8733e4a511af01735cbabd156995d"
   }
  }
 },
 "nbformat": 4,
 "nbformat_minor": 0
}
