{
 "cells": [
  {
   "cell_type": "code",
   "execution_count": 14,
   "metadata": {},
   "outputs": [
    {
     "name": "stdout",
     "output_type": "stream",
     "text": [
      "If bloğu çalıştı\n",
      "Program sonlandı\n"
     ]
    }
   ],
   "source": [
    "#Karar Yapıları\n",
    "#if blogu\n",
    "if 2 > 1 :\n",
    "    print(\"If bloğu çalıştı\")\n",
    "print(\"Program sonlandı\")"
   ]
  },
  {
   "cell_type": "code",
   "execution_count": 17,
   "metadata": {},
   "outputs": [
    {
     "name": "stdout",
     "output_type": "stream",
     "text": [
      "Sayılar birbirine eşittir.\n"
     ]
    }
   ],
   "source": [
    "sayi1 = int(input(\"1. sayıyı giriniz: \"))\n",
    "sayi2 = int(input(\"2. sayıyı giriniz: \"))\n",
    "if sayi1>sayi2: \n",
    "    print(\"1. sayı, 2. sayıdan büyüktür.\")\n",
    "elif sayi1 == sayi2: \n",
    "    print(\"Sayılar birbirine eşittir.\")\n",
    "else:\n",
    "    print(\"2.sayı, 1.sayıdan büyüktür.\")"
   ]
  },
  {
   "cell_type": "code",
   "execution_count": 18,
   "metadata": {},
   "outputs": [
    {
     "name": "stdout",
     "output_type": "stream",
     "text": [
      "2. sayı, 1. sayıdan büyüktür.\n"
     ]
    }
   ],
   "source": [
    "sayi1 = int(input(\"1. sayıyı giriniz: \"))\n",
    "sayi2 = int(input(\"2. sayıyı giriniz: \"))\n",
    "if sayi1>sayi2: \n",
    "    print(\"1. sayı, 2. sayıdan büyüktür.\")\n",
    "elif sayi1 == sayi2: \n",
    "    print(\"Sayılar birbirine eşittir.\")\n",
    "elif sayi1<sayi2:\n",
    "    print(\"2. sayı, 1. sayıdan büyüktür.\")"
   ]
  },
  {
   "cell_type": "code",
   "execution_count": 25,
   "metadata": {},
   "outputs": [
    {
     "name": "stdout",
     "output_type": "stream",
     "text": [
      "Bizde böyle bir süper kahraman bulunmamaktadır.\n"
     ]
    }
   ],
   "source": [
    "superKahraman = input(\"Bir süper kahraman giriniz:\")\n",
    "if superKahraman == \"Batman\":\n",
    "    print(\"Batman'i seçtiniz.\")\n",
    "elif superKahraman == \"Superman\":\n",
    "    print(\"Superman'i seçtiniz.\")\n",
    "elif superKahraman == \"Ironman\":\n",
    "    print(\"Ironman'ı seçtiniz.\")\n",
    "else : \n",
    "    print(\"Bizde böyle bir süper kahraman bulunmamaktadır.\")"
   ]
  },
  {
   "cell_type": "code",
   "execution_count": 26,
   "metadata": {},
   "outputs": [
    {
     "name": "stdout",
     "output_type": "stream",
     "text": [
      "10 sayısı 20 sayısından küçüktür ve 20 sayısı 30 sayısından küçüktür.\n"
     ]
    }
   ],
   "source": [
    "a = 10\n",
    "b = 20\n",
    "c = 30\n",
    "if a > b and b > c :\n",
    "    print(f\"{a} sayısı {b} sayısından büyüktür ve {b} sayısı {c} sayısından büyüktür.\")\n",
    "if a < b and b < c :\n",
    "    print(f\"{a} sayısı {b} sayısından küçüktür ve {b} sayısı {c} sayısından küçüktür.\")\n",
    "else : \n",
    "    print(\"Bu koşullar tutmadı.\")"
   ]
  },
  {
   "cell_type": "code",
   "execution_count": 27,
   "metadata": {},
   "outputs": [
    {
     "name": "stdout",
     "output_type": "stream",
     "text": [
      "YetGen mezunusunuz. #YetGenBitmez diyerek YetGen'e Dikeylerle devam ediyorsunuz.\n"
     ]
    }
   ],
   "source": [
    "yetgenMezunu = True\n",
    "if yetgenMezunu : \n",
    "    print(\"YetGen mezunusunuz. #YetGenBitmez diyerek YetGen'e Dikeylerle devam ediyorsunuz.\")\n",
    "else :\n",
    "    print(\"YetGen Mezunu değilsin. Acilen YetGen'e katılmalısın.\")"
   ]
  },
  {
   "cell_type": "code",
   "execution_count": 28,
   "metadata": {},
   "outputs": [
    {
     "name": "stdout",
     "output_type": "stream",
     "text": [
      "3. sayı 5'ten büyüktür.\n",
      "4. sayı 10'dan büyüktür.\n"
     ]
    }
   ],
   "source": [
    "sayi3 = 10 \n",
    "sayi4 = 20\n",
    "if sayi3 > 5 : \n",
    "    print(\"3. sayı 5'ten büyüktür.\")\n",
    "    if sayi4 > 10 : \n",
    "        print(\"4. sayı 10'dan büyüktür.\")\n",
    "    else:\n",
    "        print(\"İkinci else\")\n",
    "else:\n",
    "    print(\"Birinci else\")"
   ]
  },
  {
   "cell_type": "code",
   "execution_count": 29,
   "metadata": {},
   "outputs": [
    {
     "name": "stdout",
     "output_type": "stream",
     "text": [
      "Yokmuş\n"
     ]
    }
   ],
   "source": [
    "isim = \"Ecem\"\n",
    "if \"Günay\" in isim : \n",
    "    print(\"Varmış\")\n",
    "else:\n",
    "    print(\"Yokmuş\")"
   ]
  },
  {
   "cell_type": "code",
   "execution_count": 31,
   "metadata": {},
   "outputs": [
    {
     "name": "stdout",
     "output_type": "stream",
     "text": [
      "3 sayısı tektir\n"
     ]
    }
   ],
   "source": [
    "sayi = int(input(\"Bir sayı giriniz:\"))\n",
    "if sayi % 2 == 0 :\n",
    "    print(f\"{sayi} sayısı çifttir\")\n",
    "else:\n",
    "    print(f\"{sayi} sayısı tektir\")"
   ]
  }
 ],
 "metadata": {
  "kernelspec": {
   "display_name": "Python 3",
   "language": "python",
   "name": "python3"
  },
  "language_info": {
   "codemirror_mode": {
    "name": "ipython",
    "version": 3
   },
   "file_extension": ".py",
   "mimetype": "text/x-python",
   "name": "python",
   "nbconvert_exporter": "python",
   "pygments_lexer": "ipython3",
   "version": "3.13.2"
  }
 },
 "nbformat": 4,
 "nbformat_minor": 2
}
