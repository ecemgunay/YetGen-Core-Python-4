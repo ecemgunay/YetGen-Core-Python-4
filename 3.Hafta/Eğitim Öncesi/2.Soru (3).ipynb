{
 "cells": [
  {
   "cell_type": "markdown",
   "metadata": {
    "id": "SRQH1xliyf2c"
   },
   "source": [
    "# Problem 2\n",
    "Kullanıcıdan vize ve final notu isteyin. Girilen vize notunun %40’ı ve \n",
    "girilen final notunun ise %60’ı alınarak yıl sonu not ortalaması hesaplanacaktır. \n",
    "\n",
    "Bu not ortalaması eğer 85 ve üzeri ise AA, \n",
    "\n",
    "75 ve 85 arasında ise BA, \n",
    "\n",
    "70 ve 75 arasında ise BB, \n",
    "\n",
    "65 ve 70 arasında ise CB,\n",
    "\n",
    "60 ve 65 arasında ise CC,\n",
    "\n",
    "55 ve 60 arasında ise DC,\n",
    "\n",
    "50 ve 55 arasında ise DD olarak hesaplanacaktır. \n",
    "\n",
    "Bu öğrencinin yıl sonu toplam notu 50’nin altında ise FF ile dersten kalacaktır. \n",
    "\n",
    "Ayrıca öğrencinin final notu 50’nin altında ise direkt FF ile kalacaktır."
   ]
  },
  {
   "cell_type": "code",
   "execution_count": null,
   "metadata": {
    "id": "0LItFQ0zyjEs"
   },
   "outputs": [],
   "source": [
    "#Sorunun Çözmünü Buraya Gerçekleştirebilirsiniz\n",
    "vize = int(input(\"Vize notunuzu giriniz :\"))\n",
    "final = int(input(\"Final notunuzu giriniz :\"))\n",
    "notOrtalamasi = (vize * 0.4) + (final * 0.6)\n",
    "if final < 50:\n",
    "    harfNotu = \"FF\"\n",
    "elif notOrtalamasi < 50:\n",
    "    harfNotu = \"FF\"\n",
    "elif notOrtalamasi >= 85:\n",
    "    harfNotu = \"AA\"\n",
    "elif notOrtalamasi >= 75:\n",
    "    harfNotu = \"BA\"\n",
    "elif notOrtalamasi >= 70:\n",
    "    harfNotu = \"BB\"\n",
    "elif notOrtalamasi >= 65:\n",
    "    harfNotu = \"CB\"\n",
    "elif notOrtalamasi >= 60:\n",
    "    harfNotu = \"CC\"\n",
    "elif notOrtalamasi >= 55:\n",
    "    harfNotu = \"DC\"\n",
    "elif notOrtalamasi >= 50:\n",
    "    harfNotu = \"DD\"\n",
    "else : \n",
    "    harfNotu = \"FF\"\n",
    "\n",
    "print(f\"Not Ortalaması: {notOrtalamasi}\")\n",
    "print(f\"Harf Notu: {harfNotu}\")\n"
   ]
  }
 ],
 "metadata": {
  "colab": {
   "provenance": []
  },
  "kernelspec": {
   "display_name": "Python 3",
   "language": "python",
   "name": "python3"
  },
  "language_info": {
   "name": "python",
   "version": "3.11.2"
  },
  "orig_nbformat": 4,
  "vscode": {
   "interpreter": {
    "hash": "6491bbd3c7861498ceca5f810ff495ca48eaaad8857aa8ae48a42dff31e5d8e0"
   }
  }
 },
 "nbformat": 4,
 "nbformat_minor": 0
}
