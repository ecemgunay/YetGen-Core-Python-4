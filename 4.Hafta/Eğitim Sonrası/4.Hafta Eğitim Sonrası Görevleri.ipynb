{
 "cells": [
  {
   "cell_type": "markdown",
   "metadata": {},
   "source": [
    "# Problem 1\n",
    "`ogrenciler` adında bir sözlük oluşturunuz. Kullanıcıdan döngü yardımıyla 3 öğrenci için veri girmesini isteyerek öğrencilerin sırasıyla okul numarası, isim, soy isim, telefon numarası ve doğum tarihi bilgilerini alınız. Aldığınız öğrenci bilgilerini yine aynı döngü yardımıyla `ogrenciler` adındaki sözlükte saklayınız. Daha sonra öğrenci bilgilerinin bulunduğu sözlük yapısını ekrana bastırınız.\n",
    "\n"
   ]
  },
  {
   "cell_type": "code",
   "execution_count": 9,
   "metadata": {},
   "outputs": [
    {
     "name": "stdout",
     "output_type": "stream",
     "text": [
      "Öğrenci Bilgileri: \n",
      "Okul No: 4, Bilgiler: {'İsim': 'Ecem', 'Soyisim': 'Günay', 'Telefon numarası': '05302901880', 'Doğum Tarihi': '19 Şubat 2002'}\n",
      "Okul No: 1, Bilgiler: {'İsim': 'İpek', 'Soyisim': 'Günay', 'Telefon numarası': '05382899090', 'Doğum Tarihi': '1 Nisan 2010'}\n",
      "Okul No: 3, Bilgiler: {'İsim': 'İrem', 'Soyisim': 'Günay', 'Telefon numarası': '05392901818', 'Doğum Tarihi': '29 Eylül 200'}\n"
     ]
    }
   ],
   "source": [
    "# 1.Problemin Çözümünü Buraya Yazınız\n",
    "ogrenciler = {}\n",
    "\n",
    "for i in range(3):\n",
    "    okulNo = int(input(f\"{i+1}. Öğrencinin okul numarasını giriniz: \"))\n",
    "    isim = input(f\"{i+1}. Öğrencinin ismini giriniz: \")\n",
    "    soyİsim = input(f\"{i+1}. Öğrencinin soy isim bilgisini giriniz: \")\n",
    "    telNo = input(f\"{i+1}. Öğrencinin telefon numarasını giriniz: \")\n",
    "    dogumTarihi = input(f\"{i+1}. Öğrencinin doğum tarihini giriniz: \")\n",
    "    ogrenciler[okulNo] = {\n",
    "        \"İsim\" : isim,\n",
    "        \"Soyisim\" : soyİsim,\n",
    "        \"Telefon numarası\" : telNo,\n",
    "        \"Doğum Tarihi\" : dogumTarihi\n",
    "    }\n",
    "print(\"Öğrenci Bilgileri: \")\n",
    "for okulNo, bilgiler in ogrenciler.items():\n",
    "    print(f\"Okul No: {okulNo}, Bilgiler: {bilgiler}\")"
   ]
  },
  {
   "cell_type": "markdown",
   "metadata": {},
   "source": [
    "# Problem 2\n",
    "\n",
    "### a - Biraz ısınarak başlayalım!\n",
    "\n",
    "```\n",
    "numbers = [5,10,10,15,15,15,20,20,20,20]\n",
    "```\n",
    "\n",
    "Yukarıda `numbers` adında 10 elemanlı bir liste verilmiştir. Bu listenin her elemanını kontrol eden ve tekrar eden elemanları bir kez olacak şekilde başka bir listeye kopyalayan bir program yazınız. Son olarak oluşturduğunuz listeyi ekrana bastırınız.\n",
    "\n",
    "\n",
    "\n",
    "\n",
    "```\n",
    ">Output\n",
    "[5, 10, 15, 20]\n",
    "```\n"
   ]
  },
  {
   "cell_type": "code",
   "execution_count": 1,
   "metadata": {},
   "outputs": [
    {
     "name": "stdout",
     "output_type": "stream",
     "text": [
      "[5, 10, 15, 20]\n"
     ]
    }
   ],
   "source": [
    "# 2.Problemin a Şıkkının Çözümünü Buraya Yazınız\n",
    "numbers = [5,10,10,15,15,15,20,20,20,20]\n",
    "unique_numbers = []\n",
    "\n",
    "for num in numbers:\n",
    "    if num not in unique_numbers:\n",
    "        unique_numbers.append(num)\n",
    "\n",
    "print(unique_numbers)"
   ]
  },
  {
   "cell_type": "markdown",
   "metadata": {},
   "source": [
    "### 🌶️ b) Hadi işi biraz daha zorlaştıralım! \n",
    "\n",
    "\n",
    "Şimdiyse senden `numbers` isimli listedeki tekrar eden elemanları `repeatNumbers` adındaki listeye; tekrar etmeyen elemanları `uniqueNumbers`adındaki listeye kopyalayan yazmanı ve listeleri ekrana bastırmanı bekliyoruz\n",
    "\n",
    "```\n",
    ">Output\n",
    "Tekrar Eden Elemanlar: [10, 10, 15, 15, 15, 20, 20, 20, 20]\n",
    "Tekrar Etmeyen Elemanlar: [5]\n",
    "```"
   ]
  },
  {
   "cell_type": "code",
   "execution_count": 7,
   "metadata": {},
   "outputs": [
    {
     "name": "stdout",
     "output_type": "stream",
     "text": [
      "Tekrar Eden Elemanlar: [10, 10, 15, 15, 15, 20, 20, 20, 20]\n",
      "Tekrar Etmeyen Elemanlar: [5]\n"
     ]
    }
   ],
   "source": [
    "# 2.Problemin b Şıkkının Çözümünü Buraya Yazınız\n",
    "numbers = [5,10,10,15,15,15,20,20,20,20]\n",
    "repeatNumbers = []\n",
    "uniqueNumbers = []\n",
    "\n",
    "for num in numbers:\n",
    "    if numbers.count(num) ==1 :\n",
    "        uniqueNumbers.append(num)\n",
    "    else:\n",
    "        repeatNumbers.append(num)\n",
    "\n",
    "print(\"Tekrar Eden Elemanlar:\" , repeatNumbers)\n",
    "print(\"Tekrar Etmeyen Elemanlar:\" , uniqueNumbers)"
   ]
  },
  {
   "cell_type": "markdown",
   "metadata": {},
   "source": [
    "# Problem 3\n",
    "sn1 = {1,2,3,4,5}\n",
    "\n",
    "sn2 = {4,5,6,7,8}\n",
    "\n",
    " Verilen 2 adet küme için kesişimlerini, farklarını ve birleşimlerini bulunuz. "
   ]
  },
  {
   "cell_type": "code",
   "execution_count": 12,
   "metadata": {},
   "outputs": [
    {
     "data": {
      "text/plain": [
       "{4, 5}"
      ]
     },
     "execution_count": 12,
     "metadata": {},
     "output_type": "execute_result"
    }
   ],
   "source": [
    "# 3.Problemin Çözümünü Buraya Yazınız\n",
    "sn1 = {1,2,3,4,5}\n",
    "sn2 = {4,5,6,7,8}\n",
    "sn1.intersection(sn2)\n",
    "\n"
   ]
  },
  {
   "cell_type": "code",
   "execution_count": 13,
   "metadata": {},
   "outputs": [
    {
     "data": {
      "text/plain": [
       "{1, 2, 3}"
      ]
     },
     "execution_count": 13,
     "metadata": {},
     "output_type": "execute_result"
    }
   ],
   "source": [
    "sn1.difference(sn2)\n"
   ]
  },
  {
   "cell_type": "code",
   "execution_count": 14,
   "metadata": {},
   "outputs": [
    {
     "data": {
      "text/plain": [
       "{6, 7, 8}"
      ]
     },
     "execution_count": 14,
     "metadata": {},
     "output_type": "execute_result"
    }
   ],
   "source": [
    "sn2.difference(sn1)\n"
   ]
  },
  {
   "cell_type": "code",
   "execution_count": 15,
   "metadata": {},
   "outputs": [
    {
     "data": {
      "text/plain": [
       "{1, 2, 3, 4, 5, 6, 7, 8}"
      ]
     },
     "execution_count": 15,
     "metadata": {},
     "output_type": "execute_result"
    }
   ],
   "source": [
    "sn1.union(sn2)"
   ]
  },
  {
   "cell_type": "markdown",
   "metadata": {},
   "source": [
    "# Problem 4\n",
    "\n",
    "Buradaki işlemlerimizin tamamı stringler içindir. Aşağıda verilecek olan metodlar için kendinizin örnek yaratması gerekmektedir. \n",
    "\n",
    "Örneğin `upper` için `string` değişkeni oluştururken` k = \"BAC\"` şeklinde oluşturmayınız. Bunun yerine k değişkenini `k = \"bac`\" şeklinde oluşturmanız `upper` metodundaki değişimi görebilmeniz için daha iyi olacaktır.\n",
    "\n",
    "Bütün metodlardaki değişimin gözle görülür şekilde değişimi beklenmektedir.\n",
    "\n",
    "\n",
    "1- capitalize(), lower(), upper(), swapcase(), title(), replace()\n",
    "\n",
    "2- endswith(), startswith(), find(), index(), count()\n",
    "\n",
    "3- split(), strip(), join(), islower(), isalpha(), isdigit()\n",
    "\n",
    "\n",
    "Yukarıdaki `string` metodlarındaki değişimleri görebildiğimiz bir program yazınız.\n"
   ]
  },
  {
   "cell_type": "code",
   "execution_count": 45,
   "metadata": {},
   "outputs": [
    {
     "name": "stdout",
     "output_type": "stream",
     "text": [
      "Kapı\n",
      "çi̇çek\n",
      "ÇIÇEK\n",
      "eNDOPLAZMIK rETIKULÜM\n",
      "Endoplazmik Retikulüm\n",
      "alma\n",
      "True\n",
      "True\n",
      "2\n",
      "3\n",
      "2\n",
      "['Ecem', 'Python', 'Öğreniyor']\n",
      "['YetGen', ' ile', ' Python', ' Öğreniyoruz']\n",
      "Sezer Python Öğreniyor\n",
      "Sezer Python Öğreniyor\n",
      "False\n",
      "True\n",
      "True\n",
      "True\n"
     ]
    }
   ],
   "source": [
    "# 4.Problemin Çözümünü Buraya Yazınız\n",
    "# 1)\n",
    "x = \"kapı\"\n",
    "print(x.capitalize())\n",
    "\n",
    "y = \"ÇİÇEK\"\n",
    "print(y.lower())\n",
    "\n",
    "z = \"çiçek\"\n",
    "print(z.upper())\n",
    "\n",
    "t = \"Endoplazmik Retikulüm\"\n",
    "print(t.swapcase())\n",
    "\n",
    "text = \"endOplazmik reTikulüm\"\n",
    "print(text.title())\n",
    "\n",
    "text2 = \"elma\"\n",
    "print(text2.replace(\"e\",\"a\"))\n",
    "\n",
    "#2)\n",
    "text3 = \"kiraz\"\n",
    "print(text3.endswith(\"z\"))\n",
    "print(text3.startswith(\"k\"))\n",
    "\n",
    "print(text3.find(\"r\"))\n",
    "print(text3.index(\"a\"))\n",
    "print(text.count(\"e\"))\n",
    "\n",
    "#3)\n",
    "bilgi = \"Ecem Python Öğreniyor\"\n",
    "print(bilgi.split(\" \"))\n",
    "bilgi2 = \"YetGen, ile, Python, Öğreniyoruz\"\n",
    "print(bilgi2.split(\",\"))\n",
    "bilgi3 = \"     Sezer Python Öğreniyor  \"\n",
    "print(bilgi3.strip())\n",
    "bilgi4 = [\"Sezer\" , \"Python\" , \"Öğreniyor\"]\n",
    "cumle = \" \".join(bilgi4)\n",
    "print(cumle)\n",
    "\n",
    "print(bilgi.islower())\n",
    "print(text3.islower())\n",
    "\n",
    "alfabe = \"abcdefgh\"\n",
    "print(alfabe.isalpha())\n",
    "\n",
    "rakam = \"123\"\n",
    "print(rakam.isdigit())"
   ]
  }
 ],
 "metadata": {
  "kernelspec": {
   "display_name": "Python 3",
   "language": "python",
   "name": "python3"
  },
  "language_info": {
   "codemirror_mode": {
    "name": "ipython",
    "version": 3
   },
   "file_extension": ".py",
   "mimetype": "text/x-python",
   "name": "python",
   "nbconvert_exporter": "python",
   "pygments_lexer": "ipython3",
   "version": "3.13.2"
  },
  "orig_nbformat": 4
 },
 "nbformat": 4,
 "nbformat_minor": 2
}
