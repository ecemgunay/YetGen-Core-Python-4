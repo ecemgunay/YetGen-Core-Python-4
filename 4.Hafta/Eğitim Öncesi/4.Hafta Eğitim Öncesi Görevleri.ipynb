{
 "cells": [
  {
   "cell_type": "markdown",
   "metadata": {
    "id": "-My6RWLrhXIq"
   },
   "source": [
    "# Problem 1\n",
    "Sözlükleri kullanarak bir telefon rehberi yazın. Bu rehberde kullanıcıya kimin telefonunu görüntülemek istediğini sorun ve kullanıcının girdiği isme göre o kişinin telefon numarasını yazdırın. Proje sonunda elde edeceğiniz çıktı  şuna benzer olmalı:\n",
    "\n",
    "\n",
    "Lütfen numarasını öğrenmek istediğiniz kişinin adını girin: Ahmet\n",
    "\n",
    "Ahmet isimli kişinin numarası şu şekildedir: 0532 678 13 19"
   ]
  },
  {
   "cell_type": "code",
   "execution_count": 8,
   "metadata": {
    "id": "LHIQEhchhXIu"
   },
   "outputs": [
    {
     "name": "stdout",
     "output_type": "stream",
     "text": [
      "Mustafa isimli kişinin numarası şu şekildedir: 0533 440 22 62\n"
     ]
    }
   ],
   "source": [
    "# 1.Problemin Çözümünü Buraya Yazınız\n",
    "telefonRehberi = { \n",
    "    \"Ahmet\" : \"0532 678 13 19\",\n",
    "    \"Ecem\" : \"0535 260 18 82\",\n",
    "    \"Mustafa\" : \"0533 440 22 62\"\n",
    "      }\n",
    "isim = input(\"Lütfen numarasını öğrenmek istediğiniz kişinin adını girin: \")\n",
    "\n",
    "if isim in telefonRehberi :\n",
    "    print(f\"{isim} isimli kişinin numarası şu şekildedir: {telefonRehberi[isim]}\")\n",
    "else:\n",
    "    print(\"Üzgünüm bu isim rehberde bulunmamaktadır.\")\n"
   ]
  },
  {
   "cell_type": "markdown",
   "metadata": {
    "id": "rlgfjEi7hXIv"
   },
   "source": [
    "# Problem 2\n",
    "Sözlükleri kullanarak bir şirket çalışanları indeksi oluşturun. Bu isim indeksinde kişilerin isimleri key, kişilerin  memleket, yaş ve görev bilgileri value olmalıdır. Burada kullanacağımız value değerleri liste olmalıdır.\n",
    "\n",
    "\n",
    "Daha sonra bir isim sorgulama ekranı gibi kullanıcıya kimin bilgilerini görüntülemek istediğini \n",
    "sorun ve sorgulanan kişinin ekranda gösterilmesini sağlayın. Proje sonunda elde edeceğiniz çıktı şu şekilde olmalı:\n",
    "\n",
    "\n",
    "Lütfen bilgilerini görüntülemek istediğiniz çalışanın ismini girin: Mehmet Yağız\n",
    "\n",
    "Mehmet Yağız= Memleket: Adana Yaş: 40 Görev: Direktör"
   ]
  },
  {
   "cell_type": "code",
   "execution_count": 14,
   "metadata": {
    "id": "O09zrrs0hXIv"
   },
   "outputs": [
    {
     "name": "stdout",
     "output_type": "stream",
     "text": [
      "Ecem Günay = Memleket: Nevşehir Yaş: 23 Görev: Editör\n"
     ]
    }
   ],
   "source": [
    "# 2.Problemin Çözümünü Buraya Yazınız\n",
    "calisanlar = {\n",
    "    \"Mehmet Yağız\" : [\"Adana\", 40 ,\"Direktör\"],\n",
    "    \"Ecem Günay\" : [\"Nevşehir\", 23 , \"Editör\"],\n",
    "    \"Özlem Gırlangıç\" : [\"Tekirdağ\" , 50 , \"Sekreter\"]\n",
    "    }\n",
    "\n",
    "isim = input(\"Lütfen bilgilerini görüntülemek istediğiniz çalışanın ismini girin: \")\n",
    "\n",
    "if isim in calisanlar:\n",
    "    bilgiler = calisanlar[isim]\n",
    "    print(f\"{isim} = Memleket: {bilgiler[0]} Yaş: {bilgiler[1]} Görev: {bilgiler[2]}\")\n",
    "else:\n",
    "    print(\"Üzgünüm, bu isim listede bulunmamaktadır.\")\n",
    "\n"
   ]
  },
  {
   "cell_type": "markdown",
   "metadata": {
    "id": "G67ztXG-hXIw"
   },
   "source": [
    "# Problem 3\n",
    "\n",
    "3 öğrenciden oluşan bir öğrenci not sözlüğü oluşturun. Bu sözlükte öğrencilerin notları value olarak bir listede toplansın.\n",
    "\n",
    "Kullanıcıya hangi öğrencinin notlarını görmek istediğini sorun. Öğrencinin notu görüntülendiğinde program sonunda şöyle bir çıktı elde etmelisiniz:\n",
    "\n",
    "```\n",
    "Lütfen notlarını görmek istediğiniz öğrencinin adını girin: Mehmet\n",
    "\n",
    "Mehmet isimli öğrencinin      1.Sınav Notu:72\n",
    "                              2.Sınav Notu:66\n",
    "                              3.Sınav Notu:48\n",
    "Not Ortalaması: 62.0\n"
   ]
  },
  {
   "cell_type": "code",
   "execution_count": 9,
   "metadata": {
    "id": "TXQ_fuCHhXIw"
   },
   "outputs": [
    {
     "name": "stdout",
     "output_type": "stream",
     "text": [
      "\n",
      "Mehmet isimli öğrencinin     1.Sınav Notu: 72 \n",
      "                             2.Sınav Notu: 66 \n",
      "                             3.Sınav Notu: 48\n",
      "\n",
      "Not Ortalaması: 62.0\n"
     ]
    }
   ],
   "source": [
    "# 3.Problemin Çözümünü Buraya Yazınız\n",
    "ögrenciler = { \n",
    "    \"Mehmet\" : [72, 66, 48],\n",
    "    \"Ayşe\" : [60, 70, 80],\n",
    "    \"Faruk\" : [55, 90, 12]\n",
    "}\n",
    "isim = input(\"Lütfen notlarını görmek istediğiniz öğrencinin adını girin:\")\n",
    "\n",
    "if isim in ögrenciler:\n",
    "    notlar = ögrenciler[isim]\n",
    "    print(f\"\"\"\n",
    "{isim} isimli öğrencinin     1.Sınav Notu: {notlar[0]} \n",
    "                             2.Sınav Notu: {notlar[1]} \n",
    "                             3.Sınav Notu: {notlar[2]}\n",
    "\"\"\")\n",
    "    ortalama = sum(notlar) / len(notlar)\n",
    "    print(f\"Not Ortalaması: {ortalama}\")\n",
    "else: \n",
    "    print(\"Bu isimde bir öğrenci bulunmamaktadır.\")\n",
    "\n"
   ]
  },
  {
   "cell_type": "markdown",
   "metadata": {
    "id": "oel6A5WFhXIw"
   },
   "source": [
    "# Problem 4"
   ]
  },
  {
   "cell_type": "code",
   "execution_count": null,
   "metadata": {
    "id": "jVRdspCrhXIx"
   },
   "outputs": [
    {
     "name": "stdout",
     "output_type": "stream",
     "text": [
      "['Bmw', 'Mercedes', 'Opel', 'Mazda']\n",
      "4\n",
      "Bmw\n",
      "Mazda\n",
      "['Bmw', 'Mercedes', 'Opel', 'Toyota']\n",
      "Opel\n",
      "['Bmw', 'Mercedes', 'Opel']\n",
      "['Bmw', 'Mercedes', 'Toyota', 'Renault']\n",
      "['Bmw', 'Mercedes', 'Toyota', 'Renault', ['Nissan', 'Audi']]\n",
      "['Bmw', 'Mercedes', 'Toyota', 'Renault']\n",
      "['Renault', 'Toyota', 'Mercedes', 'Bmw']\n",
      "{'studentA': ['Yiğit Bilgi', 2010, (70, 60, 70)], 'studentB': ['Sena Turan', 1999, (80, 80, 70)], 'studentC': ['Ahmet Turan', 1998, (80, 70, 90)]}\n",
      "['Ali', 'Yağmur', 'Hakan', 'Deniz', 'Cenk']\n",
      "['Sena', 'Ali', 'Yağmur', 'Hakan', 'Deniz', 'Cenk']\n",
      "['Sena', 'Ali', 'Yağmur', 'Hakan', 'Cenk']\n",
      "Evet\n",
      "['Cenk', 'Hakan', 'Yağmur', 'Ali', 'Sena']\n",
      "['Ali', 'Cenk', 'Hakan', 'Sena', 'Yağmur']\n",
      "[1987, 1998, 1998, 2000]\n",
      "['Chevrolet', 'Dacia']\n",
      "2\n",
      "[]\n"
     ]
    },
    {
     "name": "stdout",
     "output_type": "stream",
     "text": [
      "Marka listesi: ['bershka', 'pullandbear', 'zara']\n"
     ]
    }
   ],
   "source": [
    "# 1-  \"Bmw, Mercedes, Opel, Mazda\" elemanlarına sahip bir liste oluşturunuz.\n",
    "araba = [\"Bmw\", \"Mercedes\", \"Opel\", \"Mazda\"]\n",
    "print(araba)\n",
    "\n",
    "# 2-  Liste Kaç elemanlıdır ?\n",
    "print(len(araba))\n",
    "\n",
    "# 3-  Listenin ilk ve son elemanı nedir ?\n",
    "print(araba[0])\n",
    "print(araba[-1])\n",
    "\n",
    "# 4-  Mazda değerini Toyota ile değiştirin.\n",
    "araba[-1] = \"Toyota\"\n",
    "print(araba)\n",
    "\n",
    "# 5-  Listenin -2 indeksindeki değer nedir ?\n",
    "print(araba[-2])\n",
    "\n",
    "# 6-  Listenin ilk 3 elemanını alın.\n",
    "print(araba[0:3]) #veya print(araba[:3])\n",
    "\n",
    "# 7-  Listenin son 2 elemanı yerine \"Toyota\" ve \"Renault\" değerlerini ekleyin.\n",
    "araba[-2:] = [\"Toyota\", \"Renault\"]\n",
    "print(araba)\n",
    "\n",
    "# 8-  Listenin üzerine \"Audi\" ve \"Nissan\" değerlerini ekleyin.\n",
    "araba.append([\"Nissan\", \"Audi\"])\n",
    "print(araba)\n",
    "# 9- Listenin son elemanını silin. \n",
    "araba.pop()  #del de kullanabilirdim. del arabalar[-1]\n",
    "print(araba)\n",
    "\n",
    "# 10- Liste elemanlarını tersten yazdırınız.\n",
    "araba.reverse()\n",
    "print(araba)\n",
    "# 11- Aşağıdaki verileri bir liste içinde saklayınız. \n",
    "\n",
    "      # studentA: Yiğit Bilgi 2010, (70,60,70)\n",
    "      # studentB: Sena Turan  1999, (80,80,70)\n",
    "      # studentC: Ahmet Turan 1998, (80,70,90) \n",
    "\n",
    "students = {\n",
    "    \"studentA\" : [\"Yiğit Bilgi\", 2010, (70,60,70)],\n",
    "    \"studentB\" : [\"Sena Turan\", 1999, (80,80,70)],\n",
    "    \"studentC\" : [\"Ahmet Turan\", 1998, (80,70,90)]\n",
    "}\n",
    "\n",
    "\n",
    "# 12- Liste elemanlarını ekrana yazdırınız.\n",
    "print(students)\n",
    "\n",
    "\n",
    "  \n",
    "names = ['Ali','Yağmur','Hakan','Deniz']\n",
    "years = [1998, 2000, 1998, 1987]\n",
    "\n",
    "# 13-  \"Cenk\" ismini listenin sonuna ekleyiniz.\n",
    "names.append(\"Cenk\")\n",
    "print(names)\n",
    "\n",
    "# 14-  \"Sena\" değerini listenin başına ekleyiniz.\n",
    "names.insert(0,\"Sena\")\n",
    "print(names)\n",
    "\n",
    "# 15-  \"Deniz\" ismini listeden siliniz.\n",
    "names.pop(4)\n",
    "print(names)\n",
    "\n",
    "# 16-  \"Ali\" listenin bir elemanı mıdır ?\n",
    "if \"Ali\" in names:\n",
    "    print(\"Evet\")\n",
    "else:\n",
    "    print(\"Hayır\")\n",
    "# 17-  Liste elemanlarını ters çevirin.\n",
    "names.reverse()\n",
    "print(names)\n",
    "# 18-  Liste elemanlarını alfabetik olarak sıralayınız.\n",
    "names.sort()\n",
    "print(names)\n",
    "# 19-  years listesini rakamsal büyüklüğe göre sıralayınız.\n",
    "years.sort()\n",
    "print(years)\n",
    "# 20-  str = \"Chevrolet,Dacia\" karakter dizisini listeye çeviriniz.\n",
    "str = \"Chevrolet,Dacia\"\n",
    "carList = str.split(\",\")\n",
    "print(carList)\n",
    "\n",
    "# 21- years dizisinde kaç tane 1998 değeri vardır ?\n",
    "print(years.count(1998))\n",
    "\n",
    "# 22- years dizisinin tüm elemanlarını siliniz.\n",
    "years.clear()\n",
    "print(years)\n",
    "# 23- Kullanıcıdan alacağınız 3 tane marka bilgisini bir listede saklayınız.\n",
    "markalar = []\n",
    "for i in range(3):\n",
    "    marka = input(f\"{i+1}. markayı girin: \")\n",
    "    markalar.append(marka)\n",
    "print(\"Marka listesi:\", markalar)"
   ]
  }
 ],
 "metadata": {
  "colab": {
   "provenance": []
  },
  "kernelspec": {
   "display_name": "Python 3",
   "language": "python",
   "name": "python3"
  },
  "language_info": {
   "codemirror_mode": {
    "name": "ipython",
    "version": 3
   },
   "file_extension": ".py",
   "mimetype": "text/x-python",
   "name": "python",
   "nbconvert_exporter": "python",
   "pygments_lexer": "ipython3",
   "version": "3.13.2"
  },
  "orig_nbformat": 4
 },
 "nbformat": 4,
 "nbformat_minor": 0
}
