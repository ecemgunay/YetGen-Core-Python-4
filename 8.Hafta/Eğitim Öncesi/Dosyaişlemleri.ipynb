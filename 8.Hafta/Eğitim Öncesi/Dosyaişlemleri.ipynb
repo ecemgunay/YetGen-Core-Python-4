{
 "cells": [
  {
   "cell_type": "code",
   "execution_count": 38,
   "id": "c44c14e7",
   "metadata": {},
   "outputs": [
    {
     "name": "stdout",
     "output_type": "stream",
     "text": [
      "<_io.TextIOWrapper name='bilgiler.txt' mode='r' encoding='cp1254'>\n"
     ]
    }
   ],
   "source": [
    "f = open(\"bilgiler.txt\")\n",
    "print(f)"
   ]
  },
  {
   "cell_type": "code",
   "execution_count": 39,
   "id": "d09bb28f",
   "metadata": {},
   "outputs": [
    {
     "name": "stdout",
     "output_type": "stream",
     "text": [
      "Ben bu dosyayı bulamadım.\n"
     ]
    }
   ],
   "source": [
    "try: \n",
    "    file = open(\"bilgiler2.txt\", \"r\", encoding=\"utf-8\")\n",
    "except:\n",
    "    print(\"Ben bu dosyayı bulamadım.\")"
   ]
  },
  {
   "cell_type": "code",
   "execution_count": 40,
   "id": "27a3cb0a",
   "metadata": {},
   "outputs": [
    {
     "name": "stdout",
     "output_type": "stream",
     "text": [
      "Yetgen\n",
      "\n",
      "Jump\n",
      "\n",
      "Core\n",
      "\n",
      "Python\n",
      "\n",
      "4\n",
      "\n"
     ]
    }
   ],
   "source": [
    "file = open(\"bilgiler.txt\", \"r\", encoding=\"utf-8\")\n",
    "for i in file:\n",
    "    print(i)\n",
    "file.close()"
   ]
  },
  {
   "cell_type": "code",
   "execution_count": 41,
   "id": "28eae250",
   "metadata": {},
   "outputs": [
    {
     "name": "stdout",
     "output_type": "stream",
     "text": [
      "1. okuma dosya içeriği\n",
      " Yetgen\n",
      "Jump\n",
      "Core\n",
      "Python\n",
      "4\n",
      "\n",
      "2. okuma dosya içeriği\n",
      " Yetgen\n",
      "Jump\n",
      "Core\n",
      "Python\n",
      "4\n",
      "\n"
     ]
    }
   ],
   "source": [
    "file = open(\"bilgiler.txt\", \"r\", encoding=\"utf-8\")\n",
    "icerik = file.read()\n",
    "print(\"1. okuma dosya içeriği\\n\", icerik, sep= \" \")\n",
    "icerik2 = file.read()\n",
    "print(\"2. okuma dosya içeriği\\n\", icerik, sep= \" \")\n",
    "file.close()"
   ]
  },
  {
   "cell_type": "code",
   "execution_count": 42,
   "id": "70770908",
   "metadata": {},
   "outputs": [
    {
     "name": "stdout",
     "output_type": "stream",
     "text": [
      "Yetgen\n",
      "\n"
     ]
    }
   ],
   "source": [
    "file = open(\"bilgiler.txt\", \"r\", encoding=\"utf-8\")\n",
    "print(file.readline())\n"
   ]
  },
  {
   "cell_type": "code",
   "execution_count": 43,
   "id": "b6ae04bc",
   "metadata": {},
   "outputs": [
    {
     "name": "stdout",
     "output_type": "stream",
     "text": [
      "Jump\n",
      "\n"
     ]
    }
   ],
   "source": [
    "print(file.readline())"
   ]
  },
  {
   "cell_type": "code",
   "execution_count": 44,
   "id": "7d2fec80",
   "metadata": {},
   "outputs": [
    {
     "name": "stdout",
     "output_type": "stream",
     "text": [
      "Core\n",
      "\n"
     ]
    }
   ],
   "source": [
    "print(file.readline())"
   ]
  },
  {
   "cell_type": "code",
   "execution_count": 45,
   "id": "84ef2164",
   "metadata": {},
   "outputs": [
    {
     "name": "stdout",
     "output_type": "stream",
     "text": [
      "Python\n",
      "\n"
     ]
    }
   ],
   "source": [
    "print(file.readline())"
   ]
  },
  {
   "cell_type": "code",
   "execution_count": 46,
   "id": "86f3e7cc",
   "metadata": {},
   "outputs": [
    {
     "name": "stdout",
     "output_type": "stream",
     "text": [
      "4\n",
      "\n"
     ]
    }
   ],
   "source": [
    "print(file.readline())"
   ]
  },
  {
   "cell_type": "code",
   "execution_count": 47,
   "id": "02cc7fa7",
   "metadata": {},
   "outputs": [
    {
     "name": "stdout",
     "output_type": "stream",
     "text": [
      "\n"
     ]
    }
   ],
   "source": [
    "print(file.readline())"
   ]
  },
  {
   "cell_type": "code",
   "execution_count": 48,
   "id": "e740ce6d",
   "metadata": {},
   "outputs": [],
   "source": [
    "file.close()"
   ]
  },
  {
   "cell_type": "code",
   "execution_count": 49,
   "id": "0800f9b3",
   "metadata": {},
   "outputs": [
    {
     "name": "stdout",
     "output_type": "stream",
     "text": [
      "['Yetgen\\n', 'Jump\\n', 'Core\\n', 'Python\\n', '4\\n']\n"
     ]
    }
   ],
   "source": [
    "file = open(\"bilgiler.txt\", \"r\", encoding=\"utf-8\")\n",
    "print(file.readlines())\n",
    "\n",
    "file.close()"
   ]
  },
  {
   "cell_type": "code",
   "execution_count": 50,
   "id": "a458459e",
   "metadata": {},
   "outputs": [],
   "source": [
    "file = open(\"bilgiler.txt\", \"w\", encoding=\"utf-8\")\n",
    "file.write(\"YetGen\\n\")\n",
    "file.close()"
   ]
  },
  {
   "cell_type": "code",
   "execution_count": 51,
   "id": "84674bbb",
   "metadata": {},
   "outputs": [],
   "source": [
    "file = open(\"bilgiler.txt\", \"a\", encoding=\"utf-8\")\n",
    "file.write(\"Jump\\n\")\n",
    "file.close()"
   ]
  },
  {
   "cell_type": "code",
   "execution_count": 52,
   "id": "309278c8",
   "metadata": {},
   "outputs": [],
   "source": [
    "file = open(\"bilgiler.txt\", \"r+\", encoding=\"utf-8\")\n",
    "file.write(\"Python\\n\")\n",
    "file.read()\n",
    "file.close()"
   ]
  },
  {
   "cell_type": "code",
   "execution_count": 53,
   "id": "0b347634",
   "metadata": {},
   "outputs": [
    {
     "name": "stdout",
     "output_type": "stream",
     "text": [
      "Python\n",
      "\n",
      "Jump\n",
      "\n"
     ]
    }
   ],
   "source": [
    "with open(\"bilgiler.txt\", \"r+\", encoding=\"utf-8\") as file:\n",
    "    for i in file:\n",
    "        print(i)"
   ]
  },
  {
   "cell_type": "code",
   "execution_count": 54,
   "id": "e1915061",
   "metadata": {},
   "outputs": [],
   "source": [
    "with open(\"bilgiler.txt\", \"r+\", encoding=\"utf-8\") as file:\n",
    "    file.seek(10)\n",
    "    file.write(\"Deneme\")"
   ]
  },
  {
   "cell_type": "code",
   "execution_count": 57,
   "id": "c08a2374",
   "metadata": {},
   "outputs": [
    {
     "name": "stdout",
     "output_type": "stream",
     "text": [
      "Python\n",
      "JuDeneme\n"
     ]
    }
   ],
   "source": [
    "with open(\"bilgiler.txt\", \"r+\", encoding=\"utf-8\") as file:\n",
    "    print(file.read())"
   ]
  },
  {
   "cell_type": "code",
   "execution_count": 58,
   "id": "09471c43",
   "metadata": {},
   "outputs": [],
   "source": [
    "with open(\"bilgiler.txt\", \"r+\", encoding=\"utf-8\") as file:\n",
    "    icerik = file.read()\n",
    "    icerik = \"Deneme\\n\" + icerik\n",
    "    file.seek(0)\n",
    "    file.write(icerik)"
   ]
  },
  {
   "cell_type": "code",
   "execution_count": 59,
   "id": "43253646",
   "metadata": {},
   "outputs": [
    {
     "name": "stdout",
     "output_type": "stream",
     "text": [
      "Deneme\n",
      "Python\n",
      "JuDeneme\n"
     ]
    }
   ],
   "source": [
    "with open(\"bilgiler.txt\", \"r+\", encoding=\"utf-8\") as file:\n",
    "    print(file.read())"
   ]
  },
  {
   "cell_type": "code",
   "execution_count": null,
   "id": "6229f4f9",
   "metadata": {},
   "outputs": [],
   "source": []
  }
 ],
 "metadata": {
  "kernelspec": {
   "display_name": "Python 3",
   "language": "python",
   "name": "python3"
  },
  "language_info": {
   "codemirror_mode": {
    "name": "ipython",
    "version": 3
   },
   "file_extension": ".py",
   "mimetype": "text/x-python",
   "name": "python",
   "nbconvert_exporter": "python",
   "pygments_lexer": "ipython3",
   "version": "3.13.2"
  }
 },
 "nbformat": 4,
 "nbformat_minor": 5
}
