{
 "cells": [
  {
   "cell_type": "code",
   "execution_count": 1,
   "id": "6c49306d",
   "metadata": {},
   "outputs": [],
   "source": [
    "#Nesne Yönelimli Programlama (OOP)\n",
    "class Araba():\n",
    "    #Sınıf özellikleri (Attitube)\n",
    "    model = \"Renault Megane\"\n",
    "    renk = \"Gümüş\"\n",
    "    beygirGucu = 110\n",
    "    silindir = 4\n",
    "    "
   ]
  },
  {
   "cell_type": "code",
   "execution_count": 2,
   "id": "9457df38",
   "metadata": {},
   "outputs": [
    {
     "name": "stdout",
     "output_type": "stream",
     "text": [
      "Renault Megane\n",
      "Gümüş\n",
      "110\n",
      "4\n"
     ]
    }
   ],
   "source": [
    "araba1 = Araba()\n",
    "print(araba1.model)\n",
    "print(araba1.renk)\n",
    "print(araba1.beygirGucu)\n",
    "print(araba1.silindir)\n"
   ]
  },
  {
   "cell_type": "code",
   "execution_count": 3,
   "id": "9afcc10e",
   "metadata": {},
   "outputs": [
    {
     "name": "stdout",
     "output_type": "stream",
     "text": [
      "Kuş\n"
     ]
    }
   ],
   "source": [
    "class Animal:\n",
    "    name = \"Kuş\"\n",
    "    print(name)\n",
    "    "
   ]
  },
  {
   "cell_type": "code",
   "execution_count": 4,
   "id": "dfbfe1fe",
   "metadata": {},
   "outputs": [
    {
     "name": "stdout",
     "output_type": "stream",
     "text": [
      "İnit fonksiyonu çalıştı\n"
     ]
    }
   ],
   "source": [
    "#self kullanımı ve init() fonksu\n",
    "class Araba():\n",
    "    def __init__(self):\n",
    "        print(\"İnit fonksiyonu çalıştı\")\n",
    "\n",
    "araba = Araba()"
   ]
  },
  {
   "cell_type": "code",
   "execution_count": 7,
   "id": "09116fee",
   "metadata": {},
   "outputs": [],
   "source": [
    "class Araba():\n",
    "     def __init__(self, model, renk, beygirGucu, silindir):\n",
    "        self.model = model\n",
    "        self.renk = renk\n",
    "        self.beygirGucu = beygirGucu\n",
    "        self.silindir = silindir"
   ]
  },
  {
   "cell_type": "code",
   "execution_count": 8,
   "id": "7710265c",
   "metadata": {},
   "outputs": [
    {
     "name": "stdout",
     "output_type": "stream",
     "text": [
      "Pegout 308\n"
     ]
    }
   ],
   "source": [
    "araba2 = Araba(\"Pegout 308\", \"Beyaz\", 90, 4)\n",
    "print(araba2.model)"
   ]
  },
  {
   "cell_type": "code",
   "execution_count": 9,
   "id": "68026d58",
   "metadata": {},
   "outputs": [],
   "source": [
    "class Comment:\n",
    "    def __init__(self, username, text, like, dislake):\n",
    "        self.username = username\n",
    "        self.text = text\n",
    "        self.likes = likes\n",
    "        self.dislakes = dislakes"
   ]
  }
 ],
 "metadata": {
  "kernelspec": {
   "display_name": "Python 3",
   "language": "python",
   "name": "python3"
  },
  "language_info": {
   "codemirror_mode": {
    "name": "ipython",
    "version": 3
   },
   "file_extension": ".py",
   "mimetype": "text/x-python",
   "name": "python",
   "nbconvert_exporter": "python",
   "pygments_lexer": "ipython3",
   "version": "3.13.2"
  }
 },
 "nbformat": 4,
 "nbformat_minor": 5
}
