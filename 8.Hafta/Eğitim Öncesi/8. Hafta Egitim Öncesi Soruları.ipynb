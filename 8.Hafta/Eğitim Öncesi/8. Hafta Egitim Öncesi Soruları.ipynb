{
 "cells": [
  {
   "cell_type": "markdown",
   "metadata": {
    "id": "Pzh44PAE5H61"
   },
   "source": [
    "# Problem 1 \n",
    "Kullanıcıdan aldığı ürün bilgisini (ad, fiyat) urunler.txt dosyasına kayıt eden fonksiyonu yazınız."
   ]
  },
  {
   "cell_type": "code",
   "execution_count": 31,
   "metadata": {
    "id": "uKw3Wap95H64"
   },
   "outputs": [],
   "source": [
    "# 1.Problemin Çözümünü Buraya Yazınız\n",
    "def urun_kaydet():\n",
    "    ad = input(\"Ürün adı giriniz: \")\n",
    "    fiyat = float(input(\"Ürün fiyatı giriniz: \"))\n",
    "    with open(\"urunler.txt\", \"a\", encoding=\"utf-8\") as file:\n",
    "        file.write(f\"{ad},{fiyat}\\n\")\n",
    "\n",
    "urun_kaydet()"
   ]
  },
  {
   "cell_type": "markdown",
   "metadata": {
    "id": "Lw7xy19D5H66"
   },
   "source": [
    "# Problem 2\n",
    "1.problemde oluşturulan text dosyası içerisinde kullanıcıdan alacağımız eski kelime isimli değişkene atadığımız \n",
    "ve değiştirilmesini istediğimiz kelimemizi yerini alıcak olan yeni kelime isimli değişkene atayın. Belirlenen kelimeleri text dosyasında değiştiren fonksiyonu yazınız."
   ]
  },
  {
   "cell_type": "code",
   "execution_count": null,
   "metadata": {
    "id": "jDlym3ko5H66"
   },
   "outputs": [],
   "source": [
    "# 2.Problemin Çözümünü Buraya Yazınız\n",
    "def kelime_degistir(dosya_adi, eski_kelime, yeni_kelime):\n",
    "    with open(dosya_adi, \"r\", encoding=\"utf-8\") as file:\n",
    "        icerik = file.read()\n",
    "    yeni_icerik = icerik.replace(eski_kelime, yeni_kelime)\n",
    "\n",
    "    with open(dosya_adi, \"w\", encoding=\"utf-8\") as file:\n",
    "        file.write(yeni_icerik)"
   ]
  },
  {
   "cell_type": "code",
   "execution_count": 30,
   "metadata": {},
   "outputs": [],
   "source": [
    "#örnek kullanım\n",
    "kelime_degistir(\"urunler.txt\", \"Kruvasan\", \"Bowl\")\n",
    "kelime_degistir(\"urunler.txt\", \"Ice latte\", \"Soda\")"
   ]
  },
  {
   "cell_type": "markdown",
   "metadata": {
    "id": "3aSYk4FF5H67"
   },
   "source": [
    "# Problem 3\n",
    "Vehicle sınıfının tüm değişkenlerini ve yöntemlerini devralacak bir alt sınıf olarak Bus sınıfı oluşturunuz.\n",
    "\n",
    "\n",
    "\n",
    "```\n",
    "Output\n",
    "> Name: School Volvo Speed: 180 Mileage: 12\n",
    "```\n"
   ]
  },
  {
   "cell_type": "code",
   "execution_count": 33,
   "metadata": {
    "id": "PwCI6Xkb5H68"
   },
   "outputs": [
    {
     "name": "stdout",
     "output_type": "stream",
     "text": [
      "Name: School Volvo, Speed: 180, Mileage: 12\n"
     ]
    }
   ],
   "source": [
    "# 3.Problemin Çözümünü Buraya Yazınız\n",
    "class Vehicle:\n",
    "    def __init__(self, name, speed, mileage):\n",
    "        self.name = name\n",
    "        self.speed = speed\n",
    "        self.mileage = mileage\n",
    "\n",
    "    def __str__(self):\n",
    "        return f\"Name: {self.name}, Speed: {self.speed}, Mileage: {self.mileage}\"\n",
    "    \n",
    "class Bus(Vehicle):\n",
    "    pass\n",
    "\n",
    "otobus = Bus(\"School Volvo\", 180, 12)\n",
    "print(otobus)\n"
   ]
  }
 ],
 "metadata": {
  "colab": {
   "provenance": []
  },
  "kernelspec": {
   "display_name": "Python 3",
   "language": "python",
   "name": "python3"
  },
  "language_info": {
   "codemirror_mode": {
    "name": "ipython",
    "version": 3
   },
   "file_extension": ".py",
   "mimetype": "text/x-python",
   "name": "python",
   "nbconvert_exporter": "python",
   "pygments_lexer": "ipython3",
   "version": "3.13.2"
  },
  "orig_nbformat": 4,
  "vscode": {
   "interpreter": {
    "hash": "5026d2d6e7aaaaba093def813beadff083d8733e4a511af01735cbabd156995d"
   }
  }
 },
 "nbformat": 4,
 "nbformat_minor": 0
}
